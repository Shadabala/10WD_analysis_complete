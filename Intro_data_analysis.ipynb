{
 "cells": [
  {
   "cell_type": "markdown",
   "id": "af0a90bd-93d7-4baa-8bf6-b160f902afed",
   "metadata": {},
   "source": [
    "# Statistics"
   ]
  },
  {
   "cell_type": "markdown",
   "id": "5eac42da-9437-40f6-be0f-3c9700da7957",
   "metadata": {},
   "source": [
    "1 human =5.6 ft\n",
    "\n",
    "1 coconut= 200ft\n",
    "\n",
    "average/mean=102.8(Arithmetic mean)\n",
    "\n",
    "Mean and it type:\n",
    "\n",
    "    1>Arithmetic mean \n",
    "\n",
    "    2>Geometric mean\n",
    "\n",
    "    3>Harmonic mean"
   ]
  },
  {
   "cell_type": "code",
   "execution_count": 1,
   "id": "35ca1765-b5c6-4611-b9fe-d2bd6c8df180",
   "metadata": {},
   "outputs": [],
   "source": [
    "# (92+92+92+92+92)/5  =average/arthmetic means"
   ]
  },
  {
   "cell_type": "code",
   "execution_count": 2,
   "id": "7bd319e1-89f8-449e-b20d-c6f6a46a4081",
   "metadata": {},
   "outputs": [
    {
     "data": {
      "text/plain": [
       "95.28487295384882"
      ]
     },
     "execution_count": 2,
     "metadata": {},
     "output_type": "execute_result"
    }
   ],
   "source": [
    "import math\n",
    "(5.6*200*230*320)**(1/4)"
   ]
  },
  {
   "cell_type": "code",
   "execution_count": 3,
   "id": "8ec6bcb4-7acf-430e-b077-d3dd7704083d",
   "metadata": {},
   "outputs": [
    {
     "data": {
      "text/plain": [
       "188.9"
      ]
     },
     "execution_count": 3,
     "metadata": {},
     "output_type": "execute_result"
    }
   ],
   "source": [
    "(5.6+200+230+320)/4"
   ]
  },
  {
   "cell_type": "code",
   "execution_count": 4,
   "id": "1119cc80-d52d-4171-b066-ee6e35a0e887",
   "metadata": {},
   "outputs": [],
   "source": [
    "import statistics as s"
   ]
  },
  {
   "cell_type": "code",
   "execution_count": 5,
   "id": "cc848315-089e-4f09-bd09-1b239448a3a1",
   "metadata": {},
   "outputs": [
    {
     "data": {
      "text/plain": [
       "15.491933384829666"
      ]
     },
     "execution_count": 5,
     "metadata": {},
     "output_type": "execute_result"
    }
   ],
   "source": [
    "# restra =A\n",
    "s.geometric_mean((3,80))"
   ]
  },
  {
   "cell_type": "code",
   "execution_count": 6,
   "id": "5921ef81-d2d2-4c81-b58e-d785459374e3",
   "metadata": {},
   "outputs": [
    {
     "data": {
      "text/plain": [
       "16.733200530681515"
      ]
     },
     "execution_count": 6,
     "metadata": {},
     "output_type": "execute_result"
    }
   ],
   "source": [
    "# restra =B\n",
    "s.geometric_mean((4,70))"
   ]
  },
  {
   "cell_type": "code",
   "execution_count": 7,
   "id": "12bd50db-a5c8-4ae4-bda5-c2f51606d585",
   "metadata": {},
   "outputs": [],
   "source": [
    "a=4\n",
    "b=6"
   ]
  },
  {
   "cell_type": "code",
   "execution_count": 8,
   "id": "f79f007e-c070-4417-a890-1a996ed1d13a",
   "metadata": {},
   "outputs": [
    {
     "data": {
      "text/plain": [
       "5"
      ]
     },
     "execution_count": 8,
     "metadata": {},
     "output_type": "execute_result"
    }
   ],
   "source": [
    "s.mean((a,b))    # arithmetic mean"
   ]
  },
  {
   "cell_type": "code",
   "execution_count": 9,
   "id": "34dc12e7-ebe2-4c06-88d8-50d4920d8e23",
   "metadata": {},
   "outputs": [
    {
     "data": {
      "text/plain": [
       "4.898979485566356"
      ]
     },
     "execution_count": 9,
     "metadata": {},
     "output_type": "execute_result"
    }
   ],
   "source": [
    "s.geometric_mean((a,b))   # geometric mean"
   ]
  },
  {
   "cell_type": "code",
   "execution_count": 10,
   "id": "822f55e6-5255-4ebf-919a-9db3105c543b",
   "metadata": {},
   "outputs": [
    {
     "data": {
      "text/plain": [
       "4.8"
      ]
     },
     "execution_count": 10,
     "metadata": {},
     "output_type": "execute_result"
    }
   ],
   "source": [
    "s.harmonic_mean((a,b))    #harmonic mean"
   ]
  },
  {
   "cell_type": "markdown",
   "id": "96982b09-1bc5-4969-81ff-a351d383d858",
   "metadata": {},
   "source": [
    "# Median : center point of data"
   ]
  },
  {
   "cell_type": "markdown",
   "id": "d8a4bcf4-e5ea-4f35-8aa3-8f4e7589367b",
   "metadata": {},
   "source": [
    "# Demo: 1 \n",
    "\n",
    "creating a sample data then sorting it into ascending order or descending order"
   ]
  },
  {
   "cell_type": "markdown",
   "id": "ae7bf9f9-9d8f-40e3-a496-f5e24e99b410",
   "metadata": {},
   "source": [
    "# Demo: 1.1: \n",
    "\n",
    "    Odd median :\n",
    "        \n",
    "        formula: Median=((n+1)/2)th   \n",
    "        \n",
    "        where:\n",
    "        \n",
    "            n=total number of values \n",
    "            \n",
    "            th= term"
   ]
  },
  {
   "cell_type": "code",
   "execution_count": 11,
   "id": "01ddef1c-6e2f-4f33-9bd8-396ca07fa169",
   "metadata": {},
   "outputs": [],
   "source": [
    "x=[3,2,4,5,7,8,6,7,8]      # odd term median"
   ]
  },
  {
   "cell_type": "code",
   "execution_count": 12,
   "id": "8bd78cdd-2596-40b4-8dc8-985559209f2a",
   "metadata": {},
   "outputs": [],
   "source": [
    "x.sort()"
   ]
  },
  {
   "cell_type": "code",
   "execution_count": 13,
   "id": "a9f0ec09-4cc1-46a2-8ea7-2d31b30955e0",
   "metadata": {},
   "outputs": [
    {
     "data": {
      "text/plain": [
       "[2, 3, 4, 5, 6, 7, 7, 8, 8]"
      ]
     },
     "execution_count": 13,
     "metadata": {},
     "output_type": "execute_result"
    }
   ],
   "source": [
    "x"
   ]
  },
  {
   "cell_type": "markdown",
   "id": "5153030c-297f-4b86-aebe-7bb4a8cd47c1",
   "metadata": {},
   "source": [
    "# Demo:1.2:\n",
    "\n",
    "    Even median\n",
    "    \n",
    "        formula: Median=((n/2)th+((n/2)+1)th)/2\n",
    "        \n",
    "        where,\n",
    "            \n",
    "            n=number of terms\n",
    "            \n",
    "            th= term"
   ]
  },
  {
   "cell_type": "code",
   "execution_count": 14,
   "id": "e863a762-65af-4b99-88e0-1b2066b93055",
   "metadata": {},
   "outputs": [
    {
     "data": {
      "text/plain": [
       "10"
      ]
     },
     "execution_count": 14,
     "metadata": {},
     "output_type": "execute_result"
    }
   ],
   "source": [
    "y=[0,1,2,3,4,5,6,7,8,9]\n",
    "len(y)"
   ]
  },
  {
   "cell_type": "code",
   "execution_count": 15,
   "id": "c4f9b712-94ed-4610-adb3-5f8847bbffdf",
   "metadata": {},
   "outputs": [
    {
     "name": "stdout",
     "output_type": "stream",
     "text": [
      "Sorted data in ascending order : [3, 4, 2, 4, 3, 8, 5, 6, 7, 6]\n",
      "length : 10\n"
     ]
    }
   ],
   "source": [
    "z=[3,4,2,4,3,8,5,6,7,6]\n",
    "z_tuple=(3,4,2,3,8,7,4,5,6,6)\n",
    "# z.sort()\n",
    "print(\"Sorted data in ascending order :\",z)\n",
    "print(\"length :\",len(z))"
   ]
  },
  {
   "cell_type": "code",
   "execution_count": 16,
   "id": "f41964a6-323b-4820-867e-d39c4fb86ddb",
   "metadata": {},
   "outputs": [],
   "source": [
    "def myMedian(n):\n",
    "    if type(n)==tuple:\n",
    "        n=list(n)\n",
    "        n.sort()\n",
    "    else:\n",
    "        n.sort()\n",
    "    print((n[(len(n)//2)-1]+n[((len(n)//2)+1)-1])/2)"
   ]
  },
  {
   "cell_type": "code",
   "execution_count": 17,
   "id": "dc1c8bb3-8639-4def-8f30-8ef51c8a0dfa",
   "metadata": {},
   "outputs": [
    {
     "name": "stdout",
     "output_type": "stream",
     "text": [
      "4.5\n",
      "4.5\n"
     ]
    }
   ],
   "source": [
    "myMedian(z)\n",
    "myMedian(z_tuple)"
   ]
  },
  {
   "cell_type": "markdown",
   "id": "adce0ce8-5a4a-46cb-be73-d4042de5192b",
   "metadata": {},
   "source": [
    "# Demo1.2.1:\n",
    "\n",
    "even median and odd median calculation using statistics module of python "
   ]
  },
  {
   "cell_type": "code",
   "execution_count": 18,
   "id": "9f988a5e-afda-4cd1-9ced-1e386e6d4cc6",
   "metadata": {},
   "outputs": [],
   "source": [
    "z=[3,4,2,3,4,5,6,7,8,6]"
   ]
  },
  {
   "cell_type": "code",
   "execution_count": 19,
   "id": "212bfa9e-026c-4da6-ac86-0fcec08a93ac",
   "metadata": {},
   "outputs": [
    {
     "data": {
      "text/plain": [
       "4.5"
      ]
     },
     "execution_count": 19,
     "metadata": {},
     "output_type": "execute_result"
    }
   ],
   "source": [
    "s.median(z)"
   ]
  },
  {
   "cell_type": "code",
   "execution_count": 20,
   "id": "651e4b7d-de4a-4f44-80b0-a6e5f92c8dd5",
   "metadata": {},
   "outputs": [],
   "source": [
    "x=[3,2,4,5,7,8,6,7,8]   "
   ]
  },
  {
   "cell_type": "code",
   "execution_count": 21,
   "id": "b5ac0d4f-983b-44c4-b035-f64a663bad57",
   "metadata": {},
   "outputs": [
    {
     "data": {
      "text/plain": [
       "6"
      ]
     },
     "execution_count": 21,
     "metadata": {},
     "output_type": "execute_result"
    }
   ],
   "source": [
    "s.median(x)"
   ]
  },
  {
   "cell_type": "code",
   "execution_count": 22,
   "id": "18150159-4d47-4cea-81b8-557af7068086",
   "metadata": {},
   "outputs": [],
   "source": [
    "a=list((3,4,2,3,4,5,6,7,8,6))"
   ]
  },
  {
   "cell_type": "code",
   "execution_count": 23,
   "id": "76521adc-f70a-4eb1-8921-d6f63858ee83",
   "metadata": {},
   "outputs": [],
   "source": [
    "a.sort()"
   ]
  },
  {
   "cell_type": "code",
   "execution_count": 24,
   "id": "5140be59-1544-45db-8c00-40de3986203e",
   "metadata": {},
   "outputs": [
    {
     "data": {
      "text/plain": [
       "[2, 3, 3, 4, 4, 5, 6, 6, 7, 8]"
      ]
     },
     "execution_count": 24,
     "metadata": {},
     "output_type": "execute_result"
    }
   ],
   "source": [
    "a"
   ]
  },
  {
   "cell_type": "markdown",
   "id": "c60737bf-5c7a-4397-ad69-29b065675760",
   "metadata": {},
   "source": [
    "# Mode\n",
    "\n",
    "help to get highest occurring value in the dataset"
   ]
  },
  {
   "cell_type": "code",
   "execution_count": 25,
   "id": "661c1b03-d53b-4695-ae8f-be1ac17ebdff",
   "metadata": {},
   "outputs": [],
   "source": [
    "m=[2, 3, 3, 4, 4, 5, 6, 6, 7, 8]"
   ]
  },
  {
   "cell_type": "code",
   "execution_count": 26,
   "id": "d97a8cf0-9b1b-475e-bf6b-f350e4c190c5",
   "metadata": {},
   "outputs": [
    {
     "data": {
      "text/plain": [
       "3"
      ]
     },
     "execution_count": 26,
     "metadata": {},
     "output_type": "execute_result"
    }
   ],
   "source": [
    "s.mode(m)"
   ]
  },
  {
   "cell_type": "code",
   "execution_count": 27,
   "id": "2d5af366-0947-4bc1-b840-4ec5769869d9",
   "metadata": {},
   "outputs": [
    {
     "data": {
      "text/plain": [
       "[3, 4, 6]"
      ]
     },
     "execution_count": 27,
     "metadata": {},
     "output_type": "execute_result"
    }
   ],
   "source": [
    "s.multimode(m)"
   ]
  },
  {
   "cell_type": "markdown",
   "id": "286446c9-dacb-440a-aa67-5c919d19d9be",
   "metadata": {},
   "source": [
    "Mean:\n",
    "    \n",
    "    >Arithmetic mean\n",
    "    \n",
    "    > Geometric mean\n",
    "    \n",
    "    > Harmonic mean\n",
    "    \n",
    "Median:\n",
    "    \n",
    "    > odd term median\n",
    "    \n",
    "    > even term median\n",
    "    \n",
    "Mode:\n",
    "    \n",
    "    > single mode \n",
    "    \n",
    "    > Multimode\n",
    "\n",
    "Quantiles:\n",
    "    \n",
    "    > Q1\n",
    "    \n",
    "    > Q2\n",
    "    \n",
    "    > Q3\n",
    "    \n",
    "IQR(Inter Quartile Range):\n",
    "    IQR=(Q3-Q1)\n",
    "\n",
    "Max_Trend:\n",
    "\n",
    "Min_Trend:\n",
    "    \n",
    "Structure data:\n",
    "\n",
    "    > Pandas(Panel Datas)\n",
    "    \n",
    "Unstructured Data\n",
    "    \n",
    "    > Numpy \n",
    "    \n",
    "Visualization:\n",
    "    \n",
    "    TUI:\n",
    "        > Matplolib\n",
    "        \n",
    "        > Seaborn\n",
    "    \n",
    "    GUI:\n",
    "        \n",
    "        >Tableau\n",
    "        \n",
    "        >Power BI\n",
    "        \n"
   ]
  },
  {
   "cell_type": "markdown",
   "id": "f3865ee0-0fd8-4c58-be9c-0bce851a618d",
   "metadata": {},
   "source": [
    "# Date=5/12/2022\n",
    "# Quantiles:"
   ]
  },
  {
   "cell_type": "code",
   "execution_count": 28,
   "id": "47b87dd2-4b75-4efb-8bbe-6f7fde289e49",
   "metadata": {},
   "outputs": [],
   "source": [
    "import statistics as s"
   ]
  },
  {
   "cell_type": "code",
   "execution_count": 29,
   "id": "4fbc33a2-8b12-469c-8209-2fbe263a6f75",
   "metadata": {},
   "outputs": [],
   "source": [
    "x=[1,2,3,4,5,6,7,8]"
   ]
  },
  {
   "cell_type": "code",
   "execution_count": 30,
   "id": "5493d059-d81e-4639-93f7-b6df699be7f8",
   "metadata": {},
   "outputs": [
    {
     "data": {
      "text/plain": [
       "[2.25, 4.5, 6.75]"
      ]
     },
     "execution_count": 30,
     "metadata": {},
     "output_type": "execute_result"
    }
   ],
   "source": [
    "s.quantiles(x)"
   ]
  },
  {
   "cell_type": "code",
   "execution_count": 31,
   "id": "acf06d2c-420b-4ac6-a387-d3ca3cde4fc2",
   "metadata": {},
   "outputs": [],
   "source": [
    "y=[2,2,3,3.24,6,6.1,8,8.1]"
   ]
  },
  {
   "cell_type": "code",
   "execution_count": 32,
   "id": "58db1d8e-4f2f-4721-a070-0bfd67c5b634",
   "metadata": {},
   "outputs": [],
   "source": [
    "q1,q2,q3=s.quantiles(y)"
   ]
  },
  {
   "cell_type": "code",
   "execution_count": 33,
   "id": "cc3b5c74-b657-4bd9-9ba5-409bf83e83a7",
   "metadata": {},
   "outputs": [
    {
     "data": {
      "text/plain": [
       "2.25"
      ]
     },
     "execution_count": 33,
     "metadata": {},
     "output_type": "execute_result"
    }
   ],
   "source": [
    "q1"
   ]
  },
  {
   "cell_type": "code",
   "execution_count": 34,
   "id": "bd2eafd4-f08a-4282-b94e-22e2dda04a18",
   "metadata": {},
   "outputs": [
    {
     "data": {
      "text/plain": [
       "4.62"
      ]
     },
     "execution_count": 34,
     "metadata": {},
     "output_type": "execute_result"
    }
   ],
   "source": [
    "q2"
   ]
  },
  {
   "cell_type": "code",
   "execution_count": 35,
   "id": "ad462308-7bf8-4d63-8c56-0dcceb46e2ba",
   "metadata": {},
   "outputs": [
    {
     "data": {
      "text/plain": [
       "7.525"
      ]
     },
     "execution_count": 35,
     "metadata": {},
     "output_type": "execute_result"
    }
   ],
   "source": [
    "q3"
   ]
  },
  {
   "cell_type": "code",
   "execution_count": 36,
   "id": "a62e8b87-5486-4884-b111-c71924e97116",
   "metadata": {},
   "outputs": [],
   "source": [
    "IQR=q1-q3"
   ]
  },
  {
   "cell_type": "code",
   "execution_count": 37,
   "id": "05cc13e9-0f3f-4dec-a049-b8933dd24edf",
   "metadata": {},
   "outputs": [
    {
     "name": "stdout",
     "output_type": "stream",
     "text": [
      "-5.275\n"
     ]
    }
   ],
   "source": [
    "print(IQR)"
   ]
  },
  {
   "cell_type": "code",
   "execution_count": 38,
   "id": "b23e654d-3c6e-4d16-a7d0-9abe9d53b021",
   "metadata": {},
   "outputs": [
    {
     "name": "stdout",
     "output_type": "stream",
     "text": [
      "5.275\n"
     ]
    }
   ],
   "source": [
    "IQR2=abs(q3-q1)\n",
    "print(IQR2)"
   ]
  },
  {
   "cell_type": "markdown",
   "id": "3f88751f-f062-4bae-be92-2540b933d3e1",
   "metadata": {},
   "source": [
    "# what is Trend?"
   ]
  },
  {
   "cell_type": "code",
   "execution_count": 39,
   "id": "b941114b-cd76-4721-aee6-d2fb7bba86fe",
   "metadata": {},
   "outputs": [],
   "source": [
    "dataset=[100,100000,200000,300000,320000]"
   ]
  },
  {
   "cell_type": "code",
   "execution_count": 40,
   "id": "2dfeb447-20b3-4301-abcb-5be50e62d4bd",
   "metadata": {},
   "outputs": [
    {
     "data": {
      "text/plain": [
       "[50050.0, 200000.0, 310000.0]"
      ]
     },
     "execution_count": 40,
     "metadata": {},
     "output_type": "execute_result"
    }
   ],
   "source": [
    "q1,q2,q3=s.quantiles(dataset)\n",
    "s.quantiles(dataset)"
   ]
  },
  {
   "cell_type": "code",
   "execution_count": 41,
   "id": "52dea4f1-d2c4-4473-82f3-7c9dad08dac6",
   "metadata": {},
   "outputs": [
    {
     "data": {
      "text/plain": [
       "309992.0875"
      ]
     },
     "execution_count": 41,
     "metadata": {},
     "output_type": "execute_result"
    }
   ],
   "source": [
    "Max_trend=q3+1.5*IQR\n",
    "Max_trend"
   ]
  },
  {
   "cell_type": "code",
   "execution_count": 42,
   "id": "69d4e2b4-952b-44ea-8e93-6cc27c8ac43d",
   "metadata": {},
   "outputs": [
    {
     "data": {
      "text/plain": [
       "50057.9125"
      ]
     },
     "execution_count": 42,
     "metadata": {},
     "output_type": "execute_result"
    }
   ],
   "source": [
    "Min_trend=q1-1.5*IQR\n",
    "Min_trend"
   ]
  },
  {
   "cell_type": "code",
   "execution_count": 43,
   "id": "4af9904e-1a17-4a3f-96b9-79193517529b",
   "metadata": {},
   "outputs": [
    {
     "name": "stdout",
     "output_type": "stream",
     "text": [
      "[100000, 200000, 300000]\n"
     ]
    }
   ],
   "source": [
    "filter_dataset=[]\n",
    "for i in dataset:\n",
    "    if Max_trend>i and Min_trend<i:\n",
    "        filter_dataset.append(i)\n",
    "print(filter_dataset)\n",
    "    "
   ]
  },
  {
   "cell_type": "code",
   "execution_count": 44,
   "id": "98951c8f-8e98-4ee4-a1e9-6cad689c127b",
   "metadata": {},
   "outputs": [
    {
     "name": "stdout",
     "output_type": "stream",
     "text": [
      "[100000, 200000, 300000]\n"
     ]
    }
   ],
   "source": [
    "filter_dataset=[]\n",
    "for i in dataset:\n",
    "    if Min_trend<i<Max_trend:\n",
    "        filter_dataset.append(i)\n",
    "print(filter_dataset)"
   ]
  },
  {
   "cell_type": "markdown",
   "id": "b8425ca8-385a-4ef7-97d8-2484e3eec572",
   "metadata": {},
   "source": [
    "# Name of the tools, hold structure data.\n",
    "database(sql database)\n",
    "\n",
    "html table\n",
    "\n",
    "xml\n",
    "\n",
    "wml(semi-structured)\n",
    "\n",
    "excel(semi-structured data)\n",
    "\n",
    "ms access\n",
    "\n",
    "etc...\n"
   ]
  },
  {
   "cell_type": "markdown",
   "id": "2cb3c948-1d56-4ec0-b1f6-444eb0f47678",
   "metadata": {},
   "source": [
    "# unstructured data\n",
    "\n",
    "a datasets which has no level of it column called unstructured \n",
    "\n",
    "tools: numpy  (2005) (numpy built in c++)\n",
    "\n",
    "\n",
    "Definition of Array:-> an Array contain similar type of values\n"
   ]
  },
  {
   "cell_type": "code",
   "execution_count": 45,
   "id": "7ed3b409-32d9-410f-a6c7-00a4ed4b44a8",
   "metadata": {},
   "outputs": [
    {
     "name": "stdout",
     "output_type": "stream",
     "text": [
      "Requirement already satisfied: numpy in c:\\users\\ducat\\anaconda3\\lib\\site-packages (1.21.5)\n",
      "Note: you may need to restart the kernel to use updated packages.\n"
     ]
    }
   ],
   "source": [
    "pip install numpy"
   ]
  },
  {
   "cell_type": "code",
   "execution_count": 46,
   "id": "3fe9b6a6-29f8-4b38-b3ef-f4658427ef18",
   "metadata": {},
   "outputs": [],
   "source": [
    "import numpy as np"
   ]
  },
  {
   "cell_type": "code",
   "execution_count": 47,
   "id": "7619f929-ff56-4a6f-b459-2a03a6bc60b5",
   "metadata": {},
   "outputs": [],
   "source": [
    "a=np.array([1,2,3,4,5,6,7,8,9,0])"
   ]
  },
  {
   "cell_type": "code",
   "execution_count": 48,
   "id": "89a1350c-edd4-4759-845b-36de9d07305c",
   "metadata": {},
   "outputs": [
    {
     "data": {
      "text/plain": [
       "array([1, 2, 3, 4, 5, 6, 7, 8, 9, 0])"
      ]
     },
     "execution_count": 48,
     "metadata": {},
     "output_type": "execute_result"
    }
   ],
   "source": [
    "a"
   ]
  },
  {
   "cell_type": "code",
   "execution_count": 49,
   "id": "d65a59ce-3630-4d35-93d7-55706fa31003",
   "metadata": {},
   "outputs": [
    {
     "name": "stdout",
     "output_type": "stream",
     "text": [
      "[1 2 3 4 5 6 7 8 9 0]\n"
     ]
    }
   ],
   "source": [
    "print(a)"
   ]
  },
  {
   "cell_type": "code",
   "execution_count": 50,
   "id": "c0585051-9304-4665-b13a-f36be83c3daf",
   "metadata": {},
   "outputs": [
    {
     "name": "stdout",
     "output_type": "stream",
     "text": [
      "[1, 2, 3, 4, 5, 6, 7, 8, 9, 0]\n"
     ]
    }
   ],
   "source": [
    "b=[1,2,3,4,5,6,7,8,9,0]\n",
    "print(b)"
   ]
  },
  {
   "cell_type": "code",
   "execution_count": 51,
   "id": "bb118be1-8277-465e-b83e-5639776d05ef",
   "metadata": {},
   "outputs": [
    {
     "name": "stdout",
     "output_type": "stream",
     "text": [
      "[1, 'krishna', 1.2]\n"
     ]
    }
   ],
   "source": [
    "c=[1,'krishna',1.2]\n",
    "print(c)"
   ]
  },
  {
   "cell_type": "code",
   "execution_count": 52,
   "id": "38241764-9347-431a-a5e6-76f5b95379f6",
   "metadata": {},
   "outputs": [
    {
     "name": "stdout",
     "output_type": "stream",
     "text": [
      "['1' 'krishna' '1.2']\n"
     ]
    }
   ],
   "source": [
    "d=np.array([1,'krishna',1.2])\n",
    "print(d)"
   ]
  },
  {
   "cell_type": "code",
   "execution_count": 53,
   "id": "2394c1f0-b410-4a83-8dde-cadcd0187136",
   "metadata": {},
   "outputs": [
    {
     "name": "stdout",
     "output_type": "stream",
     "text": [
      "[1.  2.  3.  4.  5.  1.2]\n"
     ]
    }
   ],
   "source": [
    "e=np.array([1,2,3,4,5,1.2])\n",
    "print(e)"
   ]
  },
  {
   "cell_type": "code",
   "execution_count": 54,
   "id": "ade06b1b-6d2c-4d19-98f4-8a9d1064d5ba",
   "metadata": {},
   "outputs": [
    {
     "name": "stdout",
     "output_type": "stream",
     "text": [
      "['1' '2' '3' '4' '5' '1.2' 'krishna']\n"
     ]
    }
   ],
   "source": [
    "f=np.array([1,2,3,4,5,1.2,\"krishna\"])\n",
    "print(f)"
   ]
  },
  {
   "cell_type": "code",
   "execution_count": 55,
   "id": "85237e00-21fc-4842-987b-67ea9078fb98",
   "metadata": {},
   "outputs": [
    {
     "name": "stdout",
     "output_type": "stream",
     "text": [
      "['1' '2' '3' '4' '5' '1.2' '1']\n"
     ]
    }
   ],
   "source": [
    "f=np.array([1,2,3,4,5,1.2,\"1\"])\n",
    "print(f)"
   ]
  },
  {
   "cell_type": "code",
   "execution_count": 56,
   "id": "86aba55a-ffb5-4cb0-bb64-8861d84a56ea",
   "metadata": {},
   "outputs": [
    {
     "name": "stdout",
     "output_type": "stream",
     "text": [
      "[1 2 3 4 5 1 1]\n"
     ]
    }
   ],
   "source": [
    "f=np.array([1,2,3,4,5,1.2,\"1\"],dtype=np.int8)\n",
    "print(f)"
   ]
  },
  {
   "cell_type": "code",
   "execution_count": 57,
   "id": "1fab54d5-6635-40b2-a925-f8b02ea49201",
   "metadata": {},
   "outputs": [
    {
     "data": {
      "text/plain": [
       "'0b1010'"
      ]
     },
     "execution_count": 57,
     "metadata": {},
     "output_type": "execute_result"
    }
   ],
   "source": [
    "bin(10)"
   ]
  },
  {
   "cell_type": "code",
   "execution_count": 58,
   "id": "03b1ddba-668c-417c-b39b-385bc7f069b0",
   "metadata": {},
   "outputs": [
    {
     "data": {
      "text/plain": [
       "127"
      ]
     },
     "execution_count": 58,
     "metadata": {},
     "output_type": "execute_result"
    }
   ],
   "source": [
    "64+32+16+8+4+2+1"
   ]
  },
  {
   "cell_type": "code",
   "execution_count": 59,
   "id": "45bc6e75-201d-4977-af5f-480c9c7d5cbc",
   "metadata": {},
   "outputs": [
    {
     "data": {
      "text/plain": [
       "1"
      ]
     },
     "execution_count": 59,
     "metadata": {},
     "output_type": "execute_result"
    }
   ],
   "source": [
    "f=np.array([1,2,3,4,5,6])\n",
    "min(f)"
   ]
  },
  {
   "cell_type": "code",
   "execution_count": 60,
   "id": "5c77c432-9b51-4048-a5f3-94bf2ed2aeb1",
   "metadata": {},
   "outputs": [
    {
     "name": "stdout",
     "output_type": "stream",
     "text": [
      "[ 1.   2.   3.   4.   5.   1.2 10. ]\n",
      "[ 1  2  3  4  5  1 10]\n"
     ]
    }
   ],
   "source": [
    "f=np.array([1,2,3,4,5,1.2,\"10.0\"],dtype=np.float16)\n",
    "print(f)\n",
    "g=np.array(f,dtype=np.int16)\n",
    "print(g)"
   ]
  },
  {
   "cell_type": "code",
   "execution_count": 61,
   "id": "6f12d5f0-0746-4a79-aa26-272f8ca59033",
   "metadata": {},
   "outputs": [
    {
     "ename": "ValueError",
     "evalue": "invalid literal for int() with base 10: '10.0'",
     "output_type": "error",
     "traceback": [
      "\u001b[1;31m---------------------------------------------------------------------------\u001b[0m",
      "\u001b[1;31mValueError\u001b[0m                                Traceback (most recent call last)",
      "Input \u001b[1;32mIn [61]\u001b[0m, in \u001b[0;36m<cell line: 2>\u001b[1;34m()\u001b[0m\n\u001b[0;32m      1\u001b[0m a\u001b[38;5;241m=\u001b[39m\u001b[38;5;124m\"\u001b[39m\u001b[38;5;124m10.0\u001b[39m\u001b[38;5;124m\"\u001b[39m\n\u001b[1;32m----> 2\u001b[0m \u001b[38;5;28;43mint\u001b[39;49m\u001b[43m(\u001b[49m\u001b[43ma\u001b[49m\u001b[43m)\u001b[49m\n",
      "\u001b[1;31mValueError\u001b[0m: invalid literal for int() with base 10: '10.0'"
     ]
    }
   ],
   "source": [
    "a=\"10.0\"\n",
    "int(a)"
   ]
  },
  {
   "cell_type": "code",
   "execution_count": 62,
   "id": "335f5876-da31-4259-b8c8-bd65d439261e",
   "metadata": {},
   "outputs": [
    {
     "name": "stdout",
     "output_type": "stream",
     "text": [
      "['1' '2' '3' '4' '5' '6']\n"
     ]
    }
   ],
   "source": [
    "h=np.array([1,2,3,4,5,6],dtype=np.str_)\n",
    "print(h)"
   ]
  },
  {
   "cell_type": "markdown",
   "id": "a10ed997-351d-44c3-84db-2dc2e701c820",
   "metadata": {},
   "source": [
    "# There are three type of array\n",
    "\n",
    "1 > scaler   # a value which has 0 dimension\n",
    "\n",
    "2 > vector\n",
    "\n",
    "3 > matrix"
   ]
  },
  {
   "cell_type": "code",
   "execution_count": 63,
   "id": "ca09f9b0-cc3d-40bb-9d12-7ea71895bcb7",
   "metadata": {},
   "outputs": [
    {
     "name": "stdout",
     "output_type": "stream",
     "text": [
      "100\n"
     ]
    },
    {
     "data": {
      "text/plain": [
       "0"
      ]
     },
     "execution_count": 63,
     "metadata": {},
     "output_type": "execute_result"
    }
   ],
   "source": [
    "i=np.array(100)\n",
    "print(i)\n",
    "i.ndim           # scaler array which has no dimension or 0 dimension"
   ]
  },
  {
   "cell_type": "code",
   "execution_count": 64,
   "id": "3b8d5f1e-1693-4707-b575-c9e0fe72558d",
   "metadata": {},
   "outputs": [
    {
     "name": "stdout",
     "output_type": "stream",
     "text": [
      "[100 111   2   3   4   5   5   6]\n"
     ]
    },
    {
     "data": {
      "text/plain": [
       "1"
      ]
     },
     "execution_count": 64,
     "metadata": {},
     "output_type": "execute_result"
    }
   ],
   "source": [
    "j=np.array([100,111,2,3,4,5,5,6,])    # 1 dimensional array of vector \n",
    "print(j)\n",
    "j.ndim"
   ]
  },
  {
   "cell_type": "code",
   "execution_count": 65,
   "id": "2764a202-8f3f-4ce2-8142-7c3d560299c5",
   "metadata": {},
   "outputs": [
    {
     "name": "stdout",
     "output_type": "stream",
     "text": [
      "[[1 2]\n",
      " [2 3]]\n"
     ]
    },
    {
     "data": {
      "text/plain": [
       "2"
      ]
     },
     "execution_count": 65,
     "metadata": {},
     "output_type": "execute_result"
    }
   ],
   "source": [
    "k=np.array([[1,2],[2,3]])     #2 Dimensional array called matrix\n",
    "print(k)\n",
    "k.ndim"
   ]
  },
  {
   "cell_type": "code",
   "execution_count": 66,
   "id": "6fa4d0fc-38a5-473c-9f8e-351e4af0e7c3",
   "metadata": {},
   "outputs": [
    {
     "name": "stdout",
     "output_type": "stream",
     "text": [
      "[[[100]]]\n"
     ]
    },
    {
     "data": {
      "text/plain": [
       "3"
      ]
     },
     "execution_count": 66,
     "metadata": {},
     "output_type": "execute_result"
    }
   ],
   "source": [
    "l=np.array([[[100]]])\n",
    "print(l)\n",
    "l.ndim"
   ]
  },
  {
   "cell_type": "code",
   "execution_count": 67,
   "id": "6d8be8a0-5703-4d4c-8b7c-08fb3676c73d",
   "metadata": {},
   "outputs": [
    {
     "name": "stdout",
     "output_type": "stream",
     "text": [
      "[[[1 2]\n",
      "  [2 3]]\n",
      "\n",
      " [[4 3]\n",
      "  [8 9]]]\n"
     ]
    },
    {
     "data": {
      "text/plain": [
       "3"
      ]
     },
     "execution_count": 67,
     "metadata": {},
     "output_type": "execute_result"
    }
   ],
   "source": [
    "l=np.array([[[1,2],[2,3]],[[4,3],[8,9]]])   # 3 dimensional array\n",
    "print(l)\n",
    "l.ndim"
   ]
  },
  {
   "cell_type": "code",
   "execution_count": 68,
   "id": "0916c09b-67b2-44dc-8a2e-a989d6518362",
   "metadata": {},
   "outputs": [],
   "source": [
    "toy=np.array(['video game','trum card','contra', 'computer'])"
   ]
  },
  {
   "cell_type": "code",
   "execution_count": 69,
   "id": "f1897dc1-d498-4b04-b553-274aa8951c82",
   "metadata": {},
   "outputs": [
    {
     "data": {
      "text/plain": [
       "array(['video game', 'trum card', 'contra', 'computer'], dtype='<U10')"
      ]
     },
     "execution_count": 69,
     "metadata": {},
     "output_type": "execute_result"
    }
   ],
   "source": [
    "toy"
   ]
  },
  {
   "cell_type": "code",
   "execution_count": 70,
   "id": "04c1927e-1857-437f-8701-75f0da32aa70",
   "metadata": {},
   "outputs": [],
   "source": [
    "marks=np.array([[1,'A',75,50,70],[2,'B',33,40,80],[3,'C',90,100,91]])"
   ]
  },
  {
   "cell_type": "code",
   "execution_count": 71,
   "id": "6abaf66b-3ba6-43b8-8484-ed78158e9cac",
   "metadata": {},
   "outputs": [
    {
     "data": {
      "text/plain": [
       "array([['1', 'A', '75', '50', '70'],\n",
       "       ['2', 'B', '33', '40', '80'],\n",
       "       ['3', 'C', '90', '100', '91']], dtype='<U11')"
      ]
     },
     "execution_count": 71,
     "metadata": {},
     "output_type": "execute_result"
    }
   ],
   "source": [
    "marks"
   ]
  },
  {
   "cell_type": "code",
   "execution_count": 72,
   "id": "75f25847-9c54-4ce0-af7e-69d2fb07c82b",
   "metadata": {},
   "outputs": [],
   "source": [
    "import cv2"
   ]
  },
  {
   "cell_type": "markdown",
   "id": "6acf6ef0-f0d0-4acf-9274-7728d8f1f56c",
   "metadata": {},
   "source": [
    "# Application of array: \n",
    "\n",
    "0D: 27\n",
    "\n",
    "1D: to create list\n",
    "\n",
    "2D: to store tabuler data\n",
    "\n",
    "3D: 3D array is used to store image\n",
    "\n",
    "4D: to store video."
   ]
  },
  {
   "cell_type": "code",
   "execution_count": 73,
   "id": "ebff8132-70ae-40c3-85c3-e5e79f957d13",
   "metadata": {},
   "outputs": [
    {
     "name": "stdout",
     "output_type": "stream",
     "text": [
      "[ 0  1  2  3  4  5  6  7  8  9 10 11 12 13 14 15 16 17 18 19 20 21 22 23\n",
      " 24 25 26 27 28 29 30 31 32 33 34 35 36 37 38 39 40 41 42 43 44 45 46 47\n",
      " 48 49 50 51 52 53 54 55 56 57 58 59 60 61 62 63 64 65 66 67 68 69 70 71\n",
      " 72 73 74 75 76 77 78 79 80 81 82 83 84 85 86 87 88 89 90 91 92 93 94 95\n",
      " 96 97 98 99]\n"
     ]
    }
   ],
   "source": [
    "demo1=np.array([i for i in range(100)])    # this is an array\n",
    "print(demo1)"
   ]
  },
  {
   "cell_type": "code",
   "execution_count": 74,
   "id": "4d3b965d-b580-44d1-a31b-947b9f2ca2d9",
   "metadata": {},
   "outputs": [
    {
     "name": "stdout",
     "output_type": "stream",
     "text": [
      "[0, 1, 2, 3, 4, 5, 6, 7, 8, 9, 10, 11, 12, 13, 14, 15, 16, 17, 18, 19, 20, 21, 22, 23, 24, 25, 26, 27, 28, 29, 30, 31, 32, 33, 34, 35, 36, 37, 38, 39, 40, 41, 42, 43, 44, 45, 46, 47, 48, 49, 50, 51, 52, 53, 54, 55, 56, 57, 58, 59, 60, 61, 62, 63, 64, 65, 66, 67, 68, 69, 70, 71, 72, 73, 74, 75, 76, 77, 78, 79, 80, 81, 82, 83, 84, 85, 86, 87, 88, 89, 90, 91, 92, 93, 94, 95, 96, 97, 98, 99]\n"
     ]
    }
   ],
   "source": [
    "demo2=[i for i in range(100)]      # this a list\n",
    "print(demo2)"
   ]
  },
  {
   "cell_type": "markdown",
   "id": "3de04750-30e4-4a86-84d4-423d69d66fd2",
   "metadata": {},
   "source": [
    "# Array is faster then list "
   ]
  },
  {
   "cell_type": "code",
   "execution_count": 75,
   "id": "d560fa31-9142-4c71-93e8-d784da5b2ef1",
   "metadata": {},
   "outputs": [],
   "source": [
    "import sys"
   ]
  },
  {
   "cell_type": "code",
   "execution_count": 76,
   "id": "c4b5b04c-90be-4aa6-94c8-6e1e9fc83a7f",
   "metadata": {},
   "outputs": [
    {
     "data": {
      "text/plain": [
       "504"
      ]
     },
     "execution_count": 76,
     "metadata": {},
     "output_type": "execute_result"
    }
   ],
   "source": [
    "sys.getsizeof(demo1)"
   ]
  },
  {
   "cell_type": "code",
   "execution_count": 77,
   "id": "16cad22f-f94d-4af9-852b-fb0a9b46de64",
   "metadata": {},
   "outputs": [
    {
     "data": {
      "text/plain": [
       "920"
      ]
     },
     "execution_count": 77,
     "metadata": {},
     "output_type": "execute_result"
    }
   ],
   "source": [
    "sys.getsizeof(demo2)"
   ]
  },
  {
   "cell_type": "code",
   "execution_count": 78,
   "id": "4249c4b2-7755-469d-9a13-1adbc417532c",
   "metadata": {},
   "outputs": [],
   "source": [
    "import random"
   ]
  },
  {
   "cell_type": "code",
   "execution_count": 79,
   "id": "37575c28-58bd-4bb4-9e5c-6fc7839e8eba",
   "metadata": {},
   "outputs": [
    {
     "data": {
      "text/plain": [
       "4"
      ]
     },
     "execution_count": 79,
     "metadata": {},
     "output_type": "execute_result"
    }
   ],
   "source": [
    "random.randint(1,10)"
   ]
  },
  {
   "cell_type": "code",
   "execution_count": 80,
   "id": "260b6b08-f04f-4b38-ae4e-c80c469d4474",
   "metadata": {},
   "outputs": [
    {
     "data": {
      "text/plain": [
       "array([[[7, 2],\n",
       "        [6, 6],\n",
       "        [3, 3]],\n",
       "\n",
       "       [[4, 1],\n",
       "        [9, 6],\n",
       "        [5, 7]],\n",
       "\n",
       "       [[6, 3],\n",
       "        [7, 1],\n",
       "        [4, 3]]])"
      ]
     },
     "execution_count": 80,
     "metadata": {},
     "output_type": "execute_result"
    }
   ],
   "source": [
    "np.random.randint(1,10,(3,3,2))  # start, end, size of array"
   ]
  },
  {
   "cell_type": "code",
   "execution_count": 81,
   "id": "3cf14031-f206-472e-80c0-549f27ab1737",
   "metadata": {},
   "outputs": [
    {
     "data": {
      "text/plain": [
       "array([7.62115851, 2.77159899, 6.39887706, 2.31009594, 5.44669691,\n",
       "       1.26826975, 3.40079606, 9.10873385, 1.71638708, 6.41535536])"
      ]
     },
     "execution_count": 81,
     "metadata": {},
     "output_type": "execute_result"
    }
   ],
   "source": [
    "np.random.uniform(0,10,10)  # float value"
   ]
  },
  {
   "cell_type": "code",
   "execution_count": 82,
   "id": "97cdeeae-831a-4e19-b1c5-be416b1de37b",
   "metadata": {},
   "outputs": [
    {
     "data": {
      "text/plain": [
       "array([[2, 7],\n",
       "       [1, 6],\n",
       "       [3, 1]], dtype=int16)"
      ]
     },
     "execution_count": 82,
     "metadata": {},
     "output_type": "execute_result"
    }
   ],
   "source": [
    "np.random.randint(1,10,(3,2),dtype=np.int16)   # intial_value, end_value(exclusive), size(3,2)          #integer values"
   ]
  },
  {
   "cell_type": "code",
   "execution_count": 83,
   "id": "3697bede-865b-43ea-970e-e5bd2e9bb84b",
   "metadata": {},
   "outputs": [],
   "source": [
    "x=np.random.randint(1,10,(3,2))"
   ]
  },
  {
   "cell_type": "code",
   "execution_count": 84,
   "id": "5a1909be-2207-4aaf-ba0b-eed3f1f0e227",
   "metadata": {},
   "outputs": [
    {
     "data": {
      "text/plain": [
       "array([[8, 4],\n",
       "       [8, 5],\n",
       "       [6, 8]])"
      ]
     },
     "execution_count": 84,
     "metadata": {},
     "output_type": "execute_result"
    }
   ],
   "source": [
    "x"
   ]
  },
  {
   "cell_type": "code",
   "execution_count": 85,
   "id": "c8dd32d2-cdd1-42f7-ba46-a32abc739128",
   "metadata": {},
   "outputs": [
    {
     "data": {
      "text/plain": [
       "array([[8., 4.],\n",
       "       [8., 5.],\n",
       "       [6., 8.]], dtype=float16)"
      ]
     },
     "execution_count": 85,
     "metadata": {},
     "output_type": "execute_result"
    }
   ],
   "source": [
    "np.array(x,dtype=np.float16)"
   ]
  },
  {
   "cell_type": "code",
   "execution_count": 86,
   "id": "7f901f89-00ae-453b-a273-c0f933381cd4",
   "metadata": {},
   "outputs": [
    {
     "data": {
      "text/plain": [
       "array([ 1,  1,  2,  2,  3,  3,  4,  4,  5,  5,  6,  6,  7,  7,  8,  8,  9,\n",
       "        9, 10, 10, 11], dtype=int16)"
      ]
     },
     "execution_count": 86,
     "metadata": {},
     "output_type": "execute_result"
    }
   ],
   "source": [
    "np.linspace(1,11,21,dtype=np.int16)   # uniformly equidistance data create using linspace between two point start and end both head are inclusive"
   ]
  },
  {
   "cell_type": "code",
   "execution_count": 87,
   "id": "d0c54729-cebb-474c-8df5-972671047d42",
   "metadata": {},
   "outputs": [
    {
     "data": {
      "text/plain": [
       "range(0, 10)"
      ]
     },
     "execution_count": 87,
     "metadata": {},
     "output_type": "execute_result"
    }
   ],
   "source": [
    "range(10)"
   ]
  },
  {
   "cell_type": "code",
   "execution_count": 88,
   "id": "a0e581bc-b95f-4eec-b09e-89bb3b924510",
   "metadata": {},
   "outputs": [
    {
     "data": {
      "text/plain": [
       "array([0, 1, 2, 3, 4, 5, 6, 7, 8, 9])"
      ]
     },
     "execution_count": 88,
     "metadata": {},
     "output_type": "execute_result"
    }
   ],
   "source": [
    "np.arange(10)"
   ]
  },
  {
   "cell_type": "code",
   "execution_count": 89,
   "id": "df80ef6e-772e-408d-b994-b1a99427e4cf",
   "metadata": {},
   "outputs": [],
   "source": [
    "X=np.random.randint(1,10,(3,2))"
   ]
  },
  {
   "cell_type": "code",
   "execution_count": 90,
   "id": "a7de8492-5f70-473c-96a3-1b3471356873",
   "metadata": {},
   "outputs": [
    {
     "data": {
      "text/plain": [
       "array([[2, 5],\n",
       "       [2, 6],\n",
       "       [4, 6]])"
      ]
     },
     "execution_count": 90,
     "metadata": {},
     "output_type": "execute_result"
    }
   ],
   "source": [
    "X"
   ]
  },
  {
   "cell_type": "code",
   "execution_count": 91,
   "id": "ea40475f-29ab-46c7-a926-247c6df1126e",
   "metadata": {},
   "outputs": [
    {
     "data": {
      "text/plain": [
       "array([2, 5, 2, 6, 4, 6])"
      ]
     },
     "execution_count": 91,
     "metadata": {},
     "output_type": "execute_result"
    }
   ],
   "source": [
    "y=X.flatten()\n",
    "y"
   ]
  },
  {
   "cell_type": "code",
   "execution_count": 92,
   "id": "04315e69-987a-4c52-8ae7-0ac53a3fc40d",
   "metadata": {},
   "outputs": [],
   "source": [
    "X.resize((2,3))    # do permanent changes in existing array"
   ]
  },
  {
   "cell_type": "code",
   "execution_count": 93,
   "id": "e3f69dda-89cd-45d3-b280-e0a81fb55935",
   "metadata": {},
   "outputs": [
    {
     "data": {
      "text/plain": [
       "array([[2, 5, 2],\n",
       "       [6, 4, 6]])"
      ]
     },
     "execution_count": 93,
     "metadata": {},
     "output_type": "execute_result"
    }
   ],
   "source": [
    "X"
   ]
  },
  {
   "cell_type": "code",
   "execution_count": 94,
   "id": "fe3e2100-79fb-4f6b-babe-08e5fa6dc0ee",
   "metadata": {},
   "outputs": [
    {
     "data": {
      "text/plain": [
       "array([[2, 5, 2],\n",
       "       [6, 4, 6]])"
      ]
     },
     "execution_count": 94,
     "metadata": {},
     "output_type": "execute_result"
    }
   ],
   "source": [
    "X"
   ]
  },
  {
   "cell_type": "code",
   "execution_count": 95,
   "id": "ca171479-f2b0-4ebe-9eb6-b21c1dc83a95",
   "metadata": {},
   "outputs": [],
   "source": [
    "z=np.random.randint(1,10,(3,2))"
   ]
  },
  {
   "cell_type": "code",
   "execution_count": 96,
   "id": "25fde36b-aae1-4f78-acf6-1f3438201e31",
   "metadata": {},
   "outputs": [
    {
     "data": {
      "text/plain": [
       "array([[9, 2],\n",
       "       [4, 5],\n",
       "       [4, 6]])"
      ]
     },
     "execution_count": 96,
     "metadata": {},
     "output_type": "execute_result"
    }
   ],
   "source": [
    "z"
   ]
  },
  {
   "cell_type": "code",
   "execution_count": 97,
   "id": "8abf034b-fa1b-4baa-b51b-0e94062c3004",
   "metadata": {},
   "outputs": [
    {
     "data": {
      "text/plain": [
       "array([9, 2, 4, 5, 4, 6])"
      ]
     },
     "execution_count": 97,
     "metadata": {},
     "output_type": "execute_result"
    }
   ],
   "source": [
    "z.flatten()"
   ]
  },
  {
   "cell_type": "code",
   "execution_count": 98,
   "id": "228985c4-8a53-4cb4-9790-0ff5d1b8018c",
   "metadata": {},
   "outputs": [
    {
     "data": {
      "text/plain": [
       "array([[9, 2, 4],\n",
       "       [5, 4, 6]])"
      ]
     },
     "execution_count": 98,
     "metadata": {},
     "output_type": "execute_result"
    }
   ],
   "source": [
    "z.reshape((2,3))   # not do permanent changes into array"
   ]
  },
  {
   "cell_type": "code",
   "execution_count": 99,
   "id": "ad290f46-4e81-44f7-962c-4fdd9e64a2e1",
   "metadata": {},
   "outputs": [
    {
     "data": {
      "text/plain": [
       "array([[9, 4, 5],\n",
       "       [4, 2, 6]])"
      ]
     },
     "execution_count": 99,
     "metadata": {},
     "output_type": "execute_result"
    }
   ],
   "source": [
    "z.reshape((2,3),order='F')"
   ]
  },
  {
   "cell_type": "code",
   "execution_count": 100,
   "id": "c4a2b7df-d797-4292-99a2-767a55e2d920",
   "metadata": {},
   "outputs": [
    {
     "data": {
      "text/plain": [
       "array([[9, 2],\n",
       "       [4, 5],\n",
       "       [4, 6]])"
      ]
     },
     "execution_count": 100,
     "metadata": {},
     "output_type": "execute_result"
    }
   ],
   "source": [
    "z"
   ]
  },
  {
   "cell_type": "code",
   "execution_count": 101,
   "id": "3d68f900-3ff5-4e9b-a8ef-f7e6e39f4332",
   "metadata": {},
   "outputs": [],
   "source": [
    "array1=np.arange(16)"
   ]
  },
  {
   "cell_type": "code",
   "execution_count": 102,
   "id": "680bb1f4-b75e-4e96-bd4b-ebaf3f2bee7c",
   "metadata": {},
   "outputs": [
    {
     "data": {
      "text/plain": [
       "array([ 0,  1,  2,  3,  4,  5,  6,  7,  8,  9, 10, 11, 12, 13, 14, 15])"
      ]
     },
     "execution_count": 102,
     "metadata": {},
     "output_type": "execute_result"
    }
   ],
   "source": [
    "array1"
   ]
  },
  {
   "cell_type": "code",
   "execution_count": 103,
   "id": "e2f1d75a-f568-4bf0-8c86-28b546c5af53",
   "metadata": {},
   "outputs": [
    {
     "data": {
      "text/plain": [
       "array([[ 0,  1,  2,  3],\n",
       "       [ 4,  5,  6,  7],\n",
       "       [ 8,  9, 10, 11],\n",
       "       [12, 13, 14, 15]])"
      ]
     },
     "execution_count": 103,
     "metadata": {},
     "output_type": "execute_result"
    }
   ],
   "source": [
    "array1.reshape((4,4))"
   ]
  },
  {
   "cell_type": "code",
   "execution_count": 104,
   "id": "2a456e68-a92c-4dab-b509-1eb1635eba87",
   "metadata": {},
   "outputs": [
    {
     "ename": "ValueError",
     "evalue": "cannot reshape array of size 16 into shape (3,2)",
     "output_type": "error",
     "traceback": [
      "\u001b[1;31m---------------------------------------------------------------------------\u001b[0m",
      "\u001b[1;31mValueError\u001b[0m                                Traceback (most recent call last)",
      "Input \u001b[1;32mIn [104]\u001b[0m, in \u001b[0;36m<cell line: 1>\u001b[1;34m()\u001b[0m\n\u001b[1;32m----> 1\u001b[0m \u001b[43marray1\u001b[49m\u001b[38;5;241;43m.\u001b[39;49m\u001b[43mreshape\u001b[49m\u001b[43m(\u001b[49m\u001b[43m(\u001b[49m\u001b[38;5;241;43m3\u001b[39;49m\u001b[43m,\u001b[49m\u001b[38;5;241;43m2\u001b[39;49m\u001b[43m)\u001b[49m\u001b[43m)\u001b[49m\n",
      "\u001b[1;31mValueError\u001b[0m: cannot reshape array of size 16 into shape (3,2)"
     ]
    }
   ],
   "source": [
    "array1.reshape((3,2))"
   ]
  },
  {
   "cell_type": "code",
   "execution_count": 105,
   "id": "5a527869-1c1f-4280-b453-93f5e283083d",
   "metadata": {},
   "outputs": [
    {
     "data": {
      "text/plain": [
       "array([[ 0,  1,  2,  3,  4,  5,  6,  7],\n",
       "       [ 8,  9, 10, 11, 12, 13, 14, 15]])"
      ]
     },
     "execution_count": 105,
     "metadata": {},
     "output_type": "execute_result"
    }
   ],
   "source": [
    "array1.reshape(2,-1)"
   ]
  },
  {
   "cell_type": "code",
   "execution_count": 106,
   "id": "01cae55e-4e9b-4e64-b6f8-ad2ceead965c",
   "metadata": {},
   "outputs": [
    {
     "data": {
      "text/plain": [
       "array([[ 0,  1],\n",
       "       [ 2,  3],\n",
       "       [ 4,  5],\n",
       "       [ 6,  7],\n",
       "       [ 8,  9],\n",
       "       [10, 11],\n",
       "       [12, 13],\n",
       "       [14, 15]])"
      ]
     },
     "execution_count": 106,
     "metadata": {},
     "output_type": "execute_result"
    }
   ],
   "source": [
    "array1.reshape((-1,2))"
   ]
  },
  {
   "cell_type": "code",
   "execution_count": 107,
   "id": "bb8976e1-5a27-431f-9fae-1932126f1e1e",
   "metadata": {},
   "outputs": [
    {
     "data": {
      "text/plain": [
       "array([[ 0,  8],\n",
       "       [ 1,  9],\n",
       "       [ 2, 10],\n",
       "       [ 3, 11],\n",
       "       [ 4, 12],\n",
       "       [ 5, 13],\n",
       "       [ 6, 14],\n",
       "       [ 7, 15]])"
      ]
     },
     "execution_count": 107,
     "metadata": {},
     "output_type": "execute_result"
    }
   ],
   "source": [
    "array1.reshape((-1,2),order='F')"
   ]
  },
  {
   "cell_type": "code",
   "execution_count": 108,
   "id": "5c8cb3d1-d396-4097-a38b-cbf5b763a3e1",
   "metadata": {},
   "outputs": [
    {
     "ename": "ValueError",
     "evalue": "can only specify one unknown dimension",
     "output_type": "error",
     "traceback": [
      "\u001b[1;31m---------------------------------------------------------------------------\u001b[0m",
      "\u001b[1;31mValueError\u001b[0m                                Traceback (most recent call last)",
      "Input \u001b[1;32mIn [108]\u001b[0m, in \u001b[0;36m<cell line: 1>\u001b[1;34m()\u001b[0m\n\u001b[1;32m----> 1\u001b[0m \u001b[43marray1\u001b[49m\u001b[38;5;241;43m.\u001b[39;49m\u001b[43mreshape\u001b[49m\u001b[43m(\u001b[49m\u001b[38;5;241;43m-\u001b[39;49m\u001b[38;5;241;43m1\u001b[39;49m\u001b[43m,\u001b[49m\u001b[38;5;241;43m-\u001b[39;49m\u001b[38;5;241;43m1\u001b[39;49m\u001b[43m)\u001b[49m\n",
      "\u001b[1;31mValueError\u001b[0m: can only specify one unknown dimension"
     ]
    }
   ],
   "source": [
    "array1.reshape(-1,-1)"
   ]
  },
  {
   "cell_type": "code",
   "execution_count": 113,
   "id": "35a30fe5-605f-4ad9-be82-1086586b70ec",
   "metadata": {},
   "outputs": [],
   "source": [
    "one=np.array([1])"
   ]
  },
  {
   "cell_type": "code",
   "execution_count": 114,
   "id": "a7c431d1-5ad5-4f6b-aa38-c31164cbab18",
   "metadata": {},
   "outputs": [
    {
     "ename": "ValueError",
     "evalue": "can only specify one unknown dimension",
     "output_type": "error",
     "traceback": [
      "\u001b[1;31m---------------------------------------------------------------------------\u001b[0m",
      "\u001b[1;31mValueError\u001b[0m                                Traceback (most recent call last)",
      "Input \u001b[1;32mIn [114]\u001b[0m, in \u001b[0;36m<cell line: 1>\u001b[1;34m()\u001b[0m\n\u001b[1;32m----> 1\u001b[0m \u001b[43mone\u001b[49m\u001b[38;5;241;43m.\u001b[39;49m\u001b[43mreshape\u001b[49m\u001b[43m(\u001b[49m\u001b[38;5;241;43m-\u001b[39;49m\u001b[38;5;241;43m1\u001b[39;49m\u001b[43m,\u001b[49m\u001b[38;5;241;43m-\u001b[39;49m\u001b[38;5;241;43m1\u001b[39;49m\u001b[43m)\u001b[49m\n",
      "\u001b[1;31mValueError\u001b[0m: can only specify one unknown dimension"
     ]
    }
   ],
   "source": [
    "one.reshape(-1,-1)"
   ]
  },
  {
   "cell_type": "code",
   "execution_count": 115,
   "id": "ef089858-e168-4a94-b55d-3d274e0d297d",
   "metadata": {},
   "outputs": [
    {
     "data": {
      "text/plain": [
       "16"
      ]
     },
     "execution_count": 115,
     "metadata": {},
     "output_type": "execute_result"
    }
   ],
   "source": [
    "len(array1)"
   ]
  },
  {
   "cell_type": "code",
   "execution_count": 116,
   "id": "86cb1170-02ac-41d8-926e-8a1089ba6264",
   "metadata": {},
   "outputs": [
    {
     "data": {
      "text/plain": [
       "16"
      ]
     },
     "execution_count": 116,
     "metadata": {},
     "output_type": "execute_result"
    }
   ],
   "source": [
    "len((array1.reshape(2,8)).flatten())"
   ]
  },
  {
   "cell_type": "code",
   "execution_count": 117,
   "id": "d22d58bb-64a8-4670-bb68-b9c85de30951",
   "metadata": {},
   "outputs": [],
   "source": [
    "a=array1.reshape(2,8)"
   ]
  },
  {
   "cell_type": "code",
   "execution_count": 118,
   "id": "fa99ad80-10a0-4002-adf4-fd4501a09b3b",
   "metadata": {},
   "outputs": [],
   "source": [
    "b=a.flatten()"
   ]
  },
  {
   "cell_type": "code",
   "execution_count": 119,
   "id": "af8b7673-5b29-4bc6-8fe4-ea62fd5b03b8",
   "metadata": {},
   "outputs": [
    {
     "data": {
      "text/plain": [
       "16"
      ]
     },
     "execution_count": 119,
     "metadata": {},
     "output_type": "execute_result"
    }
   ],
   "source": [
    "len(b)"
   ]
  },
  {
   "cell_type": "code",
   "execution_count": 120,
   "id": "400e63ca-044a-45c4-a248-d8c8ef8e171e",
   "metadata": {},
   "outputs": [],
   "source": [
    "a=np.arange(16)"
   ]
  },
  {
   "cell_type": "code",
   "execution_count": 121,
   "id": "be5a30b1-7c39-407d-b2e0-597be92d9834",
   "metadata": {},
   "outputs": [
    {
     "data": {
      "text/plain": [
       "array([ 0,  1,  2,  3,  4,  5,  6,  7,  8,  9, 10, 11, 12, 13, 14, 15])"
      ]
     },
     "execution_count": 121,
     "metadata": {},
     "output_type": "execute_result"
    }
   ],
   "source": [
    "a=a.flatten()\n",
    "a"
   ]
  },
  {
   "cell_type": "code",
   "execution_count": 122,
   "id": "3a6be92a-f641-42f8-bee5-8abef84b0a59",
   "metadata": {},
   "outputs": [],
   "source": [
    "a.resize(3,4,refcheck=False)"
   ]
  },
  {
   "cell_type": "code",
   "execution_count": 123,
   "id": "8f49dc9f-6333-421b-8fb0-c3672f883f83",
   "metadata": {},
   "outputs": [
    {
     "data": {
      "text/plain": [
       "array([[ 0,  1,  2,  3],\n",
       "       [ 4,  5,  6,  7],\n",
       "       [ 8,  9, 10, 11]])"
      ]
     },
     "execution_count": 123,
     "metadata": {},
     "output_type": "execute_result"
    }
   ],
   "source": [
    "a"
   ]
  },
  {
   "cell_type": "markdown",
   "id": "4e122be6-ea64-4c70-bbb3-96f44e389809",
   "metadata": {},
   "source": [
    "# Broadcasting"
   ]
  },
  {
   "cell_type": "code",
   "execution_count": 124,
   "id": "eb6c0e0b-8c73-4c47-8783-893b3adf61a4",
   "metadata": {},
   "outputs": [],
   "source": [
    "list1=[1,2,3,4,5]\n",
    "list2=[3,4,5,6,7]"
   ]
  },
  {
   "cell_type": "code",
   "execution_count": 125,
   "id": "9753132c-407e-4fa9-840e-e09ca010ef37",
   "metadata": {},
   "outputs": [],
   "source": [
    "# list broadcasting using for loop rule1:\n",
    "empty=[]\n",
    "for i,j in zip(list1,list2):\n",
    "    empty.append(i+j)"
   ]
  },
  {
   "cell_type": "code",
   "execution_count": 126,
   "id": "3b8c75ba-8e07-4119-848a-dd5681b4835c",
   "metadata": {},
   "outputs": [
    {
     "data": {
      "text/plain": [
       "[4, 6, 8, 10, 12]"
      ]
     },
     "execution_count": 126,
     "metadata": {},
     "output_type": "execute_result"
    }
   ],
   "source": [
    "empty"
   ]
  },
  {
   "cell_type": "code",
   "execution_count": 127,
   "id": "3f30324e-ebfe-42ce-90e0-ffb5f968a45e",
   "metadata": {},
   "outputs": [
    {
     "data": {
      "text/plain": [
       "[4, 6, 8, 10, 12]"
      ]
     },
     "execution_count": 127,
     "metadata": {},
     "output_type": "execute_result"
    }
   ],
   "source": [
    "# list broadcasting using for loop rule2:\n",
    "empty2=[i+j for i,j in zip(list1,list2)]\n",
    "empty2"
   ]
  },
  {
   "cell_type": "code",
   "execution_count": null,
   "id": "b03e7d02-5c44-477c-87ca-89767ec57ea3",
   "metadata": {},
   "outputs": [],
   "source": []
  },
  {
   "cell_type": "code",
   "execution_count": 128,
   "id": "243384ab-199f-4700-883d-abc0955e00af",
   "metadata": {},
   "outputs": [
    {
     "data": {
      "text/plain": [
       "[1, 2, 3, 4, 5, 3, 4, 5, 6, 7]"
      ]
     },
     "execution_count": 128,
     "metadata": {},
     "output_type": "execute_result"
    }
   ],
   "source": [
    "list1+list2"
   ]
  },
  {
   "cell_type": "code",
   "execution_count": 129,
   "id": "48f69416-bb6d-429d-8c46-3f93bc40faaa",
   "metadata": {},
   "outputs": [],
   "source": [
    "array1=np.array([1,2,3,4,5])\n",
    "array2=np.array([2,3,4,5,6])"
   ]
  },
  {
   "cell_type": "code",
   "execution_count": 130,
   "id": "0a757907-3d76-4679-afc5-00220a7f99c4",
   "metadata": {},
   "outputs": [
    {
     "data": {
      "text/plain": [
       "array([ 3,  5,  7,  9, 11])"
      ]
     },
     "execution_count": 130,
     "metadata": {},
     "output_type": "execute_result"
    }
   ],
   "source": [
    "array1+array2"
   ]
  },
  {
   "cell_type": "code",
   "execution_count": 131,
   "id": "fa466ff4-e3d2-4644-a29d-436ed0107f8d",
   "metadata": {},
   "outputs": [
    {
     "data": {
      "text/plain": [
       "array([1, 2, 3, 4, 5, 2, 3, 4, 5, 6])"
      ]
     },
     "execution_count": 131,
     "metadata": {},
     "output_type": "execute_result"
    }
   ],
   "source": [
    "np.concatenate((array1,array2))"
   ]
  },
  {
   "cell_type": "code",
   "execution_count": 132,
   "id": "3344643b-b8d0-4169-ad82-31182af236e4",
   "metadata": {},
   "outputs": [
    {
     "data": {
      "text/plain": [
       "array([ 2,  6, 12, 20, 30])"
      ]
     },
     "execution_count": 132,
     "metadata": {},
     "output_type": "execute_result"
    }
   ],
   "source": [
    "array1*array2"
   ]
  },
  {
   "cell_type": "code",
   "execution_count": 133,
   "id": "e7fbbebc-14c8-4f2e-a54e-f196576668ec",
   "metadata": {},
   "outputs": [
    {
     "data": {
      "text/plain": [
       "array([0.5       , 0.66666667, 0.75      , 0.8       , 0.83333333])"
      ]
     },
     "execution_count": 133,
     "metadata": {},
     "output_type": "execute_result"
    }
   ],
   "source": [
    "array1/array2"
   ]
  },
  {
   "cell_type": "code",
   "execution_count": 134,
   "id": "f1c9cc01-f91e-43ed-a345-6b4ab5e461af",
   "metadata": {},
   "outputs": [
    {
     "data": {
      "text/plain": [
       "array([0.5 , 0.67, 0.75, 0.8 , 0.83])"
      ]
     },
     "execution_count": 134,
     "metadata": {},
     "output_type": "execute_result"
    }
   ],
   "source": [
    "np.round(array1/array2,decimals=2)"
   ]
  },
  {
   "cell_type": "code",
   "execution_count": 135,
   "id": "8d4ab2f7-d45e-4c57-b4f1-3e48cb054177",
   "metadata": {},
   "outputs": [],
   "source": [
    "a=np.random.uniform(1,10,10)"
   ]
  },
  {
   "cell_type": "code",
   "execution_count": 136,
   "id": "96e189a0-a7dd-42dd-a4b4-6fe67853ee85",
   "metadata": {},
   "outputs": [
    {
     "data": {
      "text/plain": [
       "array([8.73, 8.69, 2.02, 2.01, 4.03, 4.79, 5.15, 2.65, 8.28, 8.92])"
      ]
     },
     "execution_count": 136,
     "metadata": {},
     "output_type": "execute_result"
    }
   ],
   "source": [
    "np.round(a,2)"
   ]
  },
  {
   "cell_type": "markdown",
   "id": "3cac451c-53fd-4a7c-92ca-11ae7c0855b8",
   "metadata": {},
   "source": [
    "array_name.reshape(()) #    no need of permanent change in array_name "
   ]
  },
  {
   "cell_type": "markdown",
   "id": "d398860b-024b-41aa-8570-adc168b135c8",
   "metadata": {},
   "source": [
    "array_name.resize()  # when we need permament change in array_name"
   ]
  },
  {
   "cell_type": "code",
   "execution_count": 137,
   "id": "4836ca35-6f77-46c4-9c6f-c77652bfd8d2",
   "metadata": {},
   "outputs": [
    {
     "data": {
      "text/plain": [
       "array([1, 2, 3, 4, 5, 6, 7, 8, 9, 0])"
      ]
     },
     "execution_count": 137,
     "metadata": {},
     "output_type": "execute_result"
    }
   ],
   "source": [
    "array_name=np.array([1,2,3,4,5,6,7,8,9,0])\n",
    "array_name"
   ]
  },
  {
   "cell_type": "code",
   "execution_count": 138,
   "id": "dc1a7750-e72e-416c-a462-3577b0baa577",
   "metadata": {},
   "outputs": [
    {
     "data": {
      "text/plain": [
       "array([[1, 2, 3, 4, 5],\n",
       "       [6, 7, 8, 9, 0]])"
      ]
     },
     "execution_count": 138,
     "metadata": {},
     "output_type": "execute_result"
    }
   ],
   "source": [
    "array_name.reshape((2,5),order='C')"
   ]
  },
  {
   "cell_type": "code",
   "execution_count": 139,
   "id": "86d621bf-8292-4208-a4bb-7672c725eb60",
   "metadata": {},
   "outputs": [
    {
     "data": {
      "text/plain": [
       "array([1, 2, 3, 4, 5, 6, 7, 8, 9, 0])"
      ]
     },
     "execution_count": 139,
     "metadata": {},
     "output_type": "execute_result"
    }
   ],
   "source": [
    "array_name"
   ]
  },
  {
   "cell_type": "code",
   "execution_count": 140,
   "id": "4f7d72fd-d32c-4ab2-a439-00bd9faa7ae0",
   "metadata": {},
   "outputs": [
    {
     "data": {
      "text/plain": [
       "array([[1, 3, 5, 7, 9],\n",
       "       [2, 4, 6, 8, 0]])"
      ]
     },
     "execution_count": 140,
     "metadata": {},
     "output_type": "execute_result"
    }
   ],
   "source": [
    "array_name.reshape((2,5),order='F')"
   ]
  },
  {
   "cell_type": "code",
   "execution_count": 141,
   "id": "86dc4784-d1a3-4cb9-979b-c7653eebcb66",
   "metadata": {},
   "outputs": [
    {
     "data": {
      "text/plain": [
       "array([1, 2, 3, 4, 5, 6, 7, 8, 9, 0])"
      ]
     },
     "execution_count": 141,
     "metadata": {},
     "output_type": "execute_result"
    }
   ],
   "source": [
    "array_name"
   ]
  },
  {
   "cell_type": "code",
   "execution_count": 142,
   "id": "b2222648-2501-46cc-aa3a-a067c2f8040c",
   "metadata": {},
   "outputs": [],
   "source": [
    "array_name.resize((2,5))   # it change our base array array_name"
   ]
  },
  {
   "cell_type": "code",
   "execution_count": 143,
   "id": "da0343e3-2e8b-4fcb-b006-551bf80d9e44",
   "metadata": {},
   "outputs": [
    {
     "data": {
      "text/plain": [
       "array([[1, 2, 3, 4, 5],\n",
       "       [6, 7, 8, 9, 0]])"
      ]
     },
     "execution_count": 143,
     "metadata": {},
     "output_type": "execute_result"
    }
   ],
   "source": [
    "array_name"
   ]
  },
  {
   "cell_type": "code",
   "execution_count": 144,
   "id": "c07f57cf-aaf0-4b0b-903f-e2ec582dd184",
   "metadata": {},
   "outputs": [],
   "source": [
    "array_name.resize((5,2))"
   ]
  },
  {
   "cell_type": "code",
   "execution_count": 145,
   "id": "1331f64f-8100-46b2-a5ce-26c90e158927",
   "metadata": {},
   "outputs": [
    {
     "data": {
      "text/plain": [
       "array([[1, 2],\n",
       "       [3, 4],\n",
       "       [5, 6],\n",
       "       [7, 8],\n",
       "       [9, 0]])"
      ]
     },
     "execution_count": 145,
     "metadata": {},
     "output_type": "execute_result"
    }
   ],
   "source": [
    "array_name"
   ]
  },
  {
   "cell_type": "code",
   "execution_count": 146,
   "id": "df16f71a-b80e-48cd-93c9-8ea2c38ccdc6",
   "metadata": {},
   "outputs": [],
   "source": [
    "array_name.resize((4,2),refcheck=False)"
   ]
  },
  {
   "cell_type": "code",
   "execution_count": 147,
   "id": "7f2fbc67-c033-4d46-aecb-85555286f4c4",
   "metadata": {},
   "outputs": [
    {
     "data": {
      "text/plain": [
       "array([[1, 2],\n",
       "       [3, 4],\n",
       "       [5, 6],\n",
       "       [7, 8]])"
      ]
     },
     "execution_count": 147,
     "metadata": {},
     "output_type": "execute_result"
    }
   ],
   "source": [
    "array_name"
   ]
  },
  {
   "cell_type": "code",
   "execution_count": 148,
   "id": "a435f017-a67a-478c-a184-338ca1eb774a",
   "metadata": {},
   "outputs": [],
   "source": [
    "array_name.resize((6,2),refcheck=False)"
   ]
  },
  {
   "cell_type": "code",
   "execution_count": 149,
   "id": "ad56f933-5f8f-4143-8579-3ffce77b28c0",
   "metadata": {},
   "outputs": [
    {
     "data": {
      "text/plain": [
       "array([[1, 2],\n",
       "       [3, 4],\n",
       "       [5, 6],\n",
       "       [7, 8],\n",
       "       [0, 0],\n",
       "       [0, 0]])"
      ]
     },
     "execution_count": 149,
     "metadata": {},
     "output_type": "execute_result"
    }
   ],
   "source": [
    "array_name"
   ]
  },
  {
   "cell_type": "code",
   "execution_count": 150,
   "id": "70200dc5-a775-41a2-bb6c-b4fc602b31ae",
   "metadata": {},
   "outputs": [
    {
     "data": {
      "text/plain": [
       "array([[1, 2],\n",
       "       [3, 4],\n",
       "       [5, 6],\n",
       "       [7, 8],\n",
       "       [0, 0],\n",
       "       [0, 0]])"
      ]
     },
     "execution_count": 150,
     "metadata": {},
     "output_type": "execute_result"
    }
   ],
   "source": [
    "array_name"
   ]
  },
  {
   "cell_type": "markdown",
   "id": "26392ea0-41e5-4ee4-809a-c68d4ab4010e",
   "metadata": {},
   "source": [
    "# vstack and hstack"
   ]
  },
  {
   "cell_type": "code",
   "execution_count": 151,
   "id": "91a7d0cd-f4f1-4432-bb83-e5679e9715fb",
   "metadata": {},
   "outputs": [],
   "source": [
    "a=np.random.randint(1,10,(3,2))   # 2d array"
   ]
  },
  {
   "cell_type": "code",
   "execution_count": 152,
   "id": "751539b8-5597-455b-b0b8-293372347ef6",
   "metadata": {},
   "outputs": [
    {
     "data": {
      "text/plain": [
       "array([[6, 2],\n",
       "       [1, 3],\n",
       "       [4, 6]])"
      ]
     },
     "execution_count": 152,
     "metadata": {},
     "output_type": "execute_result"
    }
   ],
   "source": [
    "a"
   ]
  },
  {
   "cell_type": "code",
   "execution_count": 153,
   "id": "33b37e3c-8e7d-48c9-8fb5-fc00540f4bdc",
   "metadata": {},
   "outputs": [],
   "source": [
    "b=np.random.randint(1,10,(2,2))  # 2D array"
   ]
  },
  {
   "cell_type": "code",
   "execution_count": 154,
   "id": "96e67f64-9806-4653-8369-8b910bd3133a",
   "metadata": {},
   "outputs": [
    {
     "data": {
      "text/plain": [
       "array([[1, 6],\n",
       "       [6, 8]])"
      ]
     },
     "execution_count": 154,
     "metadata": {},
     "output_type": "execute_result"
    }
   ],
   "source": [
    "b"
   ]
  },
  {
   "cell_type": "code",
   "execution_count": 155,
   "id": "08fbe801-b95e-4226-b79b-58bee1b4fa67",
   "metadata": {},
   "outputs": [
    {
     "data": {
      "text/plain": [
       "array([[6, 2],\n",
       "       [1, 3],\n",
       "       [4, 6],\n",
       "       [1, 6],\n",
       "       [6, 8]])"
      ]
     },
     "execution_count": 155,
     "metadata": {},
     "output_type": "execute_result"
    }
   ],
   "source": [
    "np.vstack((a,b))    # 2D array"
   ]
  },
  {
   "cell_type": "markdown",
   "id": "29622941-56ff-4def-872f-7f64f29fdee2",
   "metadata": {},
   "source": [
    "# 3D array stacking"
   ]
  },
  {
   "cell_type": "code",
   "execution_count": 156,
   "id": "3ff685e8-a2a3-413d-83b2-4a8be3b9d3fa",
   "metadata": {},
   "outputs": [
    {
     "data": {
      "text/plain": [
       "array([[[8, 5],\n",
       "        [9, 4]],\n",
       "\n",
       "       [[9, 8],\n",
       "        [4, 1]],\n",
       "\n",
       "       [[1, 7],\n",
       "        [2, 3]]])"
      ]
     },
     "execution_count": 156,
     "metadata": {},
     "output_type": "execute_result"
    }
   ],
   "source": [
    "c=np.random.randint(1,10,(3,2,2))\n",
    "c"
   ]
  },
  {
   "cell_type": "code",
   "execution_count": 157,
   "id": "ae91e8ca-394a-4346-9831-5784b727862d",
   "metadata": {},
   "outputs": [
    {
     "data": {
      "text/plain": [
       "array([[[8, 7],\n",
       "        [4, 5]],\n",
       "\n",
       "       [[5, 6],\n",
       "        [1, 6]],\n",
       "\n",
       "       [[7, 2],\n",
       "        [9, 9]],\n",
       "\n",
       "       [[8, 1],\n",
       "        [9, 9]]])"
      ]
     },
     "execution_count": 157,
     "metadata": {},
     "output_type": "execute_result"
    }
   ],
   "source": [
    "d=np.random.randint(1,10,(4,2,2))\n",
    "d"
   ]
  },
  {
   "cell_type": "code",
   "execution_count": 158,
   "id": "de130dd9-c83a-42a7-be1e-e18cce4bb973",
   "metadata": {},
   "outputs": [
    {
     "data": {
      "text/plain": [
       "array([[[8, 5],\n",
       "        [9, 4]],\n",
       "\n",
       "       [[9, 8],\n",
       "        [4, 1]],\n",
       "\n",
       "       [[1, 7],\n",
       "        [2, 3]],\n",
       "\n",
       "       [[8, 7],\n",
       "        [4, 5]],\n",
       "\n",
       "       [[5, 6],\n",
       "        [1, 6]],\n",
       "\n",
       "       [[7, 2],\n",
       "        [9, 9]],\n",
       "\n",
       "       [[8, 1],\n",
       "        [9, 9]]])"
      ]
     },
     "execution_count": 158,
     "metadata": {},
     "output_type": "execute_result"
    }
   ],
   "source": [
    "np.vstack((c,d))"
   ]
  },
  {
   "cell_type": "markdown",
   "id": "fe618fb6-d40a-4742-9741-9f315cd4c65f",
   "metadata": {},
   "source": [
    "# hstack"
   ]
  },
  {
   "cell_type": "code",
   "execution_count": 159,
   "id": "e6534655-fbb8-4c80-b7ed-1f9833cfa44e",
   "metadata": {},
   "outputs": [
    {
     "data": {
      "text/plain": [
       "array([[3, 3, 2],\n",
       "       [9, 1, 2]])"
      ]
     },
     "execution_count": 159,
     "metadata": {},
     "output_type": "execute_result"
    }
   ],
   "source": [
    "e=np.random.randint(1,10,(2,3))\n",
    "e"
   ]
  },
  {
   "cell_type": "code",
   "execution_count": 160,
   "id": "9f8d63bc-778d-4230-9d12-51917a2a1dd4",
   "metadata": {},
   "outputs": [
    {
     "data": {
      "text/plain": [
       "array([[1, 8, 6, 5, 1, 4, 1, 6, 9, 3],\n",
       "       [5, 3, 1, 6, 1, 1, 9, 5, 6, 8]])"
      ]
     },
     "execution_count": 160,
     "metadata": {},
     "output_type": "execute_result"
    }
   ],
   "source": [
    "f=np.random.randint(1,10,(2,10))\n",
    "f"
   ]
  },
  {
   "cell_type": "code",
   "execution_count": 161,
   "id": "ce4a1ce3-2617-49bc-a105-1da0e42a8e77",
   "metadata": {},
   "outputs": [
    {
     "data": {
      "text/plain": [
       "array([[3, 3, 2, 1, 8, 6, 5, 1, 4, 1, 6, 9, 3],\n",
       "       [9, 1, 2, 5, 3, 1, 6, 1, 1, 9, 5, 6, 8]])"
      ]
     },
     "execution_count": 161,
     "metadata": {},
     "output_type": "execute_result"
    }
   ],
   "source": [
    "np.hstack((e,f))"
   ]
  },
  {
   "cell_type": "markdown",
   "id": "ecab50cd-21c6-4058-ba90-9bc6da0054dd",
   "metadata": {},
   "source": [
    "# hstacking with 3D array"
   ]
  },
  {
   "cell_type": "code",
   "execution_count": 162,
   "id": "bddbfadb-7816-420c-9deb-5a19e1a35473",
   "metadata": {},
   "outputs": [
    {
     "data": {
      "text/plain": [
       "array([[[3, 6],\n",
       "        [5, 3]],\n",
       "\n",
       "       [[3, 1],\n",
       "        [9, 1]],\n",
       "\n",
       "       [[6, 5],\n",
       "        [7, 2]]])"
      ]
     },
     "execution_count": 162,
     "metadata": {},
     "output_type": "execute_result"
    }
   ],
   "source": [
    "g=np.random.randint(1,10,(3,2,2))\n",
    "g"
   ]
  },
  {
   "cell_type": "code",
   "execution_count": 163,
   "id": "aef7a38f-04d4-41b2-bbf6-6b224fd2382a",
   "metadata": {},
   "outputs": [
    {
     "data": {
      "text/plain": [
       "array([[[1, 5],\n",
       "        [9, 6]],\n",
       "\n",
       "       [[5, 8],\n",
       "        [8, 3]],\n",
       "\n",
       "       [[4, 5],\n",
       "        [7, 1]],\n",
       "\n",
       "       [[5, 5],\n",
       "        [7, 1]],\n",
       "\n",
       "       [[3, 8],\n",
       "        [4, 1]]])"
      ]
     },
     "execution_count": 163,
     "metadata": {},
     "output_type": "execute_result"
    }
   ],
   "source": [
    "h=np.random.randint(1,10,(5,2,2))\n",
    "h"
   ]
  },
  {
   "cell_type": "code",
   "execution_count": 164,
   "id": "631bde99-16fa-44fb-bac1-56eb15a974e2",
   "metadata": {},
   "outputs": [
    {
     "data": {
      "text/plain": [
       "array([[[3, 6],\n",
       "        [5, 3]],\n",
       "\n",
       "       [[3, 1],\n",
       "        [9, 1]],\n",
       "\n",
       "       [[6, 5],\n",
       "        [7, 2]],\n",
       "\n",
       "       [[1, 5],\n",
       "        [9, 6]],\n",
       "\n",
       "       [[5, 8],\n",
       "        [8, 3]],\n",
       "\n",
       "       [[4, 5],\n",
       "        [7, 1]],\n",
       "\n",
       "       [[5, 5],\n",
       "        [7, 1]],\n",
       "\n",
       "       [[3, 8],\n",
       "        [4, 1]]])"
      ]
     },
     "execution_count": 164,
     "metadata": {},
     "output_type": "execute_result"
    }
   ],
   "source": [
    "np.vstack((g,h))"
   ]
  },
  {
   "cell_type": "code",
   "execution_count": 165,
   "id": "bcca1647-4062-4758-b969-af4c538b2edf",
   "metadata": {},
   "outputs": [
    {
     "data": {
      "text/plain": [
       "array([6, 6, 5, 6, 2, 1, 1, 4, 3, 1])"
      ]
     },
     "execution_count": 165,
     "metadata": {},
     "output_type": "execute_result"
    }
   ],
   "source": [
    "i=np.random.randint(1,10,10)\n",
    "i"
   ]
  },
  {
   "cell_type": "code",
   "execution_count": 166,
   "id": "31b0f85e-c4d8-4d53-917f-fb5aa3f1c547",
   "metadata": {},
   "outputs": [
    {
     "data": {
      "text/plain": [
       "1"
      ]
     },
     "execution_count": 166,
     "metadata": {},
     "output_type": "execute_result"
    }
   ],
   "source": [
    "np.min(i)"
   ]
  },
  {
   "cell_type": "code",
   "execution_count": 167,
   "id": "04fb75ff-d8a4-4e1b-820f-48224c1da39b",
   "metadata": {},
   "outputs": [
    {
     "data": {
      "text/plain": [
       "6"
      ]
     },
     "execution_count": 167,
     "metadata": {},
     "output_type": "execute_result"
    }
   ],
   "source": [
    "np.max(i)"
   ]
  },
  {
   "cell_type": "code",
   "execution_count": 168,
   "id": "b9ff077c-0786-441b-b954-b288e15ce302",
   "metadata": {},
   "outputs": [
    {
     "data": {
      "text/plain": [
       "35"
      ]
     },
     "execution_count": 168,
     "metadata": {},
     "output_type": "execute_result"
    }
   ],
   "source": [
    "np.sum(i)"
   ]
  },
  {
   "cell_type": "code",
   "execution_count": 169,
   "id": "80483b2c-255e-4427-920a-e012e3571df9",
   "metadata": {},
   "outputs": [
    {
     "data": {
      "text/plain": [
       "3.5"
      ]
     },
     "execution_count": 169,
     "metadata": {},
     "output_type": "execute_result"
    }
   ],
   "source": [
    "np.mean(i)"
   ]
  },
  {
   "cell_type": "code",
   "execution_count": 170,
   "id": "bdc2f709-1f53-40ed-acf3-1d49fa5c44de",
   "metadata": {},
   "outputs": [
    {
     "data": {
      "text/plain": [
       "2.0615528128088303"
      ]
     },
     "execution_count": 170,
     "metadata": {},
     "output_type": "execute_result"
    }
   ],
   "source": [
    "np.std(i)"
   ]
  },
  {
   "cell_type": "code",
   "execution_count": 171,
   "id": "d912c006-632b-43d0-8a7b-9fc2369b1597",
   "metadata": {},
   "outputs": [
    {
     "data": {
      "text/plain": [
       "array([[1, 2, 3, 4, 5],\n",
       "       [6, 7, 8, 9, 0]])"
      ]
     },
     "execution_count": 171,
     "metadata": {},
     "output_type": "execute_result"
    }
   ],
   "source": [
    "j=np.array([[1,2,3,4,5],[6,7,8,9,0]])\n",
    "j"
   ]
  },
  {
   "cell_type": "code",
   "execution_count": 172,
   "id": "e390e3d5-0da1-4a6a-88a6-470cf106cc39",
   "metadata": {},
   "outputs": [
    {
     "data": {
      "text/plain": [
       "0"
      ]
     },
     "execution_count": 172,
     "metadata": {},
     "output_type": "execute_result"
    }
   ],
   "source": [
    "np.min(j)"
   ]
  },
  {
   "cell_type": "code",
   "execution_count": 173,
   "id": "b673e332-23e3-43a1-a803-32481746b3b9",
   "metadata": {},
   "outputs": [
    {
     "data": {
      "text/plain": [
       "9"
      ]
     },
     "execution_count": 173,
     "metadata": {},
     "output_type": "execute_result"
    }
   ],
   "source": [
    "np.max(j)"
   ]
  },
  {
   "cell_type": "code",
   "execution_count": 174,
   "id": "e02ced96-49c7-44f1-9c32-701639130ec5",
   "metadata": {},
   "outputs": [
    {
     "data": {
      "text/plain": [
       "4.5"
      ]
     },
     "execution_count": 174,
     "metadata": {},
     "output_type": "execute_result"
    }
   ],
   "source": [
    "np.mean(j)"
   ]
  },
  {
   "cell_type": "code",
   "execution_count": 175,
   "id": "e5e4d835-dd92-4ee9-9702-cd2f28218d73",
   "metadata": {},
   "outputs": [
    {
     "data": {
      "text/plain": [
       "2.8722813232690143"
      ]
     },
     "execution_count": 175,
     "metadata": {},
     "output_type": "execute_result"
    }
   ],
   "source": [
    "np.std(j)"
   ]
  },
  {
   "cell_type": "code",
   "execution_count": 176,
   "id": "36bcf685-70e3-4654-96e5-87ed0c7ce8ed",
   "metadata": {},
   "outputs": [
    {
     "data": {
      "text/plain": [
       "9"
      ]
     },
     "execution_count": 176,
     "metadata": {},
     "output_type": "execute_result"
    }
   ],
   "source": [
    "np.argmin(j)"
   ]
  },
  {
   "cell_type": "code",
   "execution_count": 177,
   "id": "197a69d8-ec60-4c31-92db-237d858df1e3",
   "metadata": {},
   "outputs": [
    {
     "data": {
      "text/plain": [
       "array([1, 2, 3, 4, 5, 6, 7, 8, 9, 0])"
      ]
     },
     "execution_count": 177,
     "metadata": {},
     "output_type": "execute_result"
    }
   ],
   "source": [
    "j.flatten()"
   ]
  },
  {
   "cell_type": "code",
   "execution_count": 178,
   "id": "65e7fc51-7062-4612-a6f1-d35fca57a3d1",
   "metadata": {},
   "outputs": [
    {
     "data": {
      "text/plain": [
       "array([[1, 2, 3, 4, 5],\n",
       "       [6, 7, 8, 9, 0]])"
      ]
     },
     "execution_count": 178,
     "metadata": {},
     "output_type": "execute_result"
    }
   ],
   "source": [
    "j"
   ]
  },
  {
   "cell_type": "code",
   "execution_count": 179,
   "id": "478b2283-de00-4a4d-8fa9-85f49b26dce4",
   "metadata": {},
   "outputs": [
    {
     "data": {
      "text/plain": [
       "array([4, 3], dtype=int64)"
      ]
     },
     "execution_count": 179,
     "metadata": {},
     "output_type": "execute_result"
    }
   ],
   "source": [
    "np.argmax(j,axis=1) #it detect larger value's index row-wise"
   ]
  },
  {
   "cell_type": "code",
   "execution_count": 180,
   "id": "c2ba4caf-fe89-40a8-a6de-1be374747801",
   "metadata": {},
   "outputs": [
    {
     "data": {
      "text/plain": [
       "array([1, 1, 1, 1, 0], dtype=int64)"
      ]
     },
     "execution_count": 180,
     "metadata": {},
     "output_type": "execute_result"
    }
   ],
   "source": [
    "np.argmax(j,axis=0)"
   ]
  },
  {
   "cell_type": "code",
   "execution_count": 181,
   "id": "7912d02e-493e-425d-9e01-d990ca151a3f",
   "metadata": {},
   "outputs": [
    {
     "data": {
      "text/plain": [
       "array([[1, 2, 3, 4, 5],\n",
       "       [6, 7, 8, 9, 0]])"
      ]
     },
     "execution_count": 181,
     "metadata": {},
     "output_type": "execute_result"
    }
   ],
   "source": [
    "j"
   ]
  },
  {
   "cell_type": "code",
   "execution_count": 182,
   "id": "9dfce3d6-2758-44b3-9dee-a69292447f2c",
   "metadata": {},
   "outputs": [
    {
     "data": {
      "text/plain": [
       "45"
      ]
     },
     "execution_count": 182,
     "metadata": {},
     "output_type": "execute_result"
    }
   ],
   "source": [
    "np.sum(j)"
   ]
  },
  {
   "cell_type": "code",
   "execution_count": 183,
   "id": "9f09012d-7e17-44fa-86f3-d5014c3b57bb",
   "metadata": {},
   "outputs": [
    {
     "name": "stdout",
     "output_type": "stream",
     "text": [
      "sum of all value in array: 45\n",
      "sum of all values according to row in array : [15 30]\n"
     ]
    }
   ],
   "source": [
    "print(\"sum of all value in array:\",np.sum(j))\n",
    "print(\"sum of all values according to row in array :\",np.sum(j,axis=1))"
   ]
  },
  {
   "cell_type": "code",
   "execution_count": 184,
   "id": "67959c16-38e4-47db-8b59-f2d406224895",
   "metadata": {},
   "outputs": [
    {
     "name": "stdout",
     "output_type": "stream",
     "text": [
      "Sum of all values in array : 45\n",
      "Sum of all values in array according to column wise : [ 7  9 11 13  5]\n"
     ]
    }
   ],
   "source": [
    "print(\"Sum of all values in array :\",np.sum(j))\n",
    "print(\"Sum of all values in array according to column wise :\",np.sum(j,axis=0))"
   ]
  },
  {
   "cell_type": "markdown",
   "id": "64466bdb-3221-4260-b273-60e77bd0a9be",
   "metadata": {},
   "source": [
    "# argmax and argmin"
   ]
  },
  {
   "cell_type": "code",
   "execution_count": 185,
   "id": "b71cbe33-82a5-48ea-a9e4-f70471ce30f9",
   "metadata": {},
   "outputs": [],
   "source": [
    "a=[3,4,5,2,5,4,7,4,2]"
   ]
  },
  {
   "cell_type": "code",
   "execution_count": 186,
   "id": "2184be94-bd8b-4d24-8898-ad5d8627ba13",
   "metadata": {},
   "outputs": [
    {
     "data": {
      "text/plain": [
       "7"
      ]
     },
     "execution_count": 186,
     "metadata": {},
     "output_type": "execute_result"
    }
   ],
   "source": [
    "max(a)"
   ]
  },
  {
   "cell_type": "code",
   "execution_count": 212,
   "id": "bdc102d4-5fb6-4a98-bbc5-891a4ed49537",
   "metadata": {},
   "outputs": [],
   "source": [
    "def new(arg):  # [67, 46, 86, 24, 56, 52, 48, 46, 83, 38]  #1234\n",
    "    counter=-1\n",
    "    drg=arg.copy()   #[67, 46, 86, 24, 56, 52, 48, 46, 83, 38]  #2345\n",
    "    drg.sort()      #[24, 38, 46, 46, 48, 52, 56, 67, 83, 86]  # 2345\n",
    "    d=drg[-1]   #86\n",
    "    for i in arg:   #[67, 46, 86, 24, 56, 52, 48, 46, 83, 38]  #1234\n",
    "        counter+=1\n",
    "        if i==d:     #i=86 d=86   # i==d  True\n",
    "           break\n",
    "    return counter"
   ]
  },
  {
   "cell_type": "code",
   "execution_count": 204,
   "id": "274d9584-84b8-4f09-906b-9b5292d1e119",
   "metadata": {},
   "outputs": [
    {
     "name": "stdout",
     "output_type": "stream",
     "text": [
      "[2, 2, 3, 4, 4, 4, 5, 5, 7]\n"
     ]
    },
    {
     "data": {
      "text/plain": [
       "8"
      ]
     },
     "execution_count": 204,
     "metadata": {},
     "output_type": "execute_result"
    }
   ],
   "source": [
    "new(a)"
   ]
  },
  {
   "cell_type": "code",
   "execution_count": 213,
   "id": "10e6756d-cc75-438f-89b5-1628e149f470",
   "metadata": {},
   "outputs": [
    {
     "data": {
      "text/plain": [
       "array([67, 46, 86, 24, 56, 52, 48, 46, 83, 38])"
      ]
     },
     "execution_count": 213,
     "metadata": {},
     "output_type": "execute_result"
    }
   ],
   "source": [
    "d=np.random.randint(1,100,10)\n",
    "d"
   ]
  },
  {
   "cell_type": "code",
   "execution_count": 214,
   "id": "5e300670-8e1a-43c4-b14e-3000943798c4",
   "metadata": {},
   "outputs": [
    {
     "data": {
      "text/plain": [
       "2"
      ]
     },
     "execution_count": 214,
     "metadata": {},
     "output_type": "execute_result"
    }
   ],
   "source": [
    "new(d)"
   ]
  },
  {
   "cell_type": "code",
   "execution_count": 215,
   "id": "7b3294d7-f22c-47be-8ed4-c471a9e5235a",
   "metadata": {},
   "outputs": [],
   "source": [
    "d.sort()"
   ]
  },
  {
   "cell_type": "code",
   "execution_count": 218,
   "id": "6ba3383d-f1c7-4372-839a-6556852a81c9",
   "metadata": {},
   "outputs": [],
   "source": [
    "d=[67, 46, 86, 24, 56, 52, 48, 46, 83, 38]"
   ]
  },
  {
   "cell_type": "code",
   "execution_count": 219,
   "id": "2e8f980b-cb13-4221-aa85-97ad5d4d7069",
   "metadata": {},
   "outputs": [
    {
     "data": {
      "text/plain": [
       "2"
      ]
     },
     "execution_count": 219,
     "metadata": {},
     "output_type": "execute_result"
    }
   ],
   "source": [
    "np.argmax(d)"
   ]
  },
  {
   "cell_type": "code",
   "execution_count": 220,
   "id": "6571bfec-e2d3-4138-8313-1443087fa1b0",
   "metadata": {},
   "outputs": [
    {
     "data": {
      "text/plain": [
       "3"
      ]
     },
     "execution_count": 220,
     "metadata": {},
     "output_type": "execute_result"
    }
   ],
   "source": [
    "np.argmin(d)"
   ]
  },
  {
   "cell_type": "code",
   "execution_count": 221,
   "id": "5a9442c2-3854-4169-a777-85875a620299",
   "metadata": {},
   "outputs": [],
   "source": [
    "def old(arg):  # [67, 46, 86, 24, 56, 52, 48, 46, 83, 38]  #1234\n",
    "    counter=-1\n",
    "    drg=arg.copy()   #[67, 46, 86, 24, 56, 52, 48, 46, 83, 38]  #2345\n",
    "    drg.sort()      #[24, 38, 46, 46, 48, 52, 56, 67, 83, 86]  # 2345\n",
    "    d=drg[0]   #86\n",
    "    for i in arg:   #[67, 46, 86, 24, 56, 52, 48, 46, 83, 38]  #1234\n",
    "        counter+=1\n",
    "        if i==d:     #i=86 d=86   # i==d  True\n",
    "           break\n",
    "    return counter"
   ]
  },
  {
   "cell_type": "code",
   "execution_count": 222,
   "id": "81f0aa41-b56b-4cdd-b6a6-788be20bec93",
   "metadata": {},
   "outputs": [
    {
     "data": {
      "text/plain": [
       "3"
      ]
     },
     "execution_count": 222,
     "metadata": {},
     "output_type": "execute_result"
    }
   ],
   "source": [
    "old(d)"
   ]
  },
  {
   "cell_type": "code",
   "execution_count": 223,
   "id": "1001ed6b-355b-4809-8a9d-aca0b8ec0ffb",
   "metadata": {},
   "outputs": [
    {
     "data": {
      "text/plain": [
       "[67, 46, 86, 24, 56, 52, 48, 46, 83, 38]"
      ]
     },
     "execution_count": 223,
     "metadata": {},
     "output_type": "execute_result"
    }
   ],
   "source": [
    "d"
   ]
  },
  {
   "cell_type": "code",
   "execution_count": 226,
   "id": "820e9aba-1728-4513-b6c9-c984bb586ada",
   "metadata": {},
   "outputs": [
    {
     "data": {
      "text/plain": [
       "array([[67, 46],\n",
       "       [86, 24],\n",
       "       [56, 52],\n",
       "       [48, 46],\n",
       "       [83, 38]])"
      ]
     },
     "execution_count": 226,
     "metadata": {},
     "output_type": "execute_result"
    }
   ],
   "source": [
    "e=np.reshape(d,(5,2))\n",
    "e"
   ]
  },
  {
   "cell_type": "code",
   "execution_count": 227,
   "id": "360dbba1-5121-4720-b683-f6cafb7d33bb",
   "metadata": {},
   "outputs": [
    {
     "data": {
      "text/plain": [
       "3"
      ]
     },
     "execution_count": 227,
     "metadata": {},
     "output_type": "execute_result"
    }
   ],
   "source": [
    "np.argmin(e)"
   ]
  },
  {
   "cell_type": "code",
   "execution_count": 228,
   "id": "8c622e97-6f69-4a6f-9dbe-465a98552245",
   "metadata": {},
   "outputs": [
    {
     "data": {
      "text/plain": [
       "2"
      ]
     },
     "execution_count": 228,
     "metadata": {},
     "output_type": "execute_result"
    }
   ],
   "source": [
    "np.argmax(e)"
   ]
  },
  {
   "cell_type": "code",
   "execution_count": 229,
   "id": "057c9ac0-ee6f-4b94-aa5e-f6337ee68cd5",
   "metadata": {},
   "outputs": [
    {
     "ename": "ValueError",
     "evalue": "The truth value of an array with more than one element is ambiguous. Use a.any() or a.all()",
     "output_type": "error",
     "traceback": [
      "\u001b[1;31m---------------------------------------------------------------------------\u001b[0m",
      "\u001b[1;31mValueError\u001b[0m                                Traceback (most recent call last)",
      "Input \u001b[1;32mIn [229]\u001b[0m, in \u001b[0;36m<cell line: 1>\u001b[1;34m()\u001b[0m\n\u001b[1;32m----> 1\u001b[0m \u001b[43mold\u001b[49m\u001b[43m(\u001b[49m\u001b[43me\u001b[49m\u001b[43m)\u001b[49m\n",
      "Input \u001b[1;32mIn [221]\u001b[0m, in \u001b[0;36mold\u001b[1;34m(arg)\u001b[0m\n\u001b[0;32m      6\u001b[0m \u001b[38;5;28;01mfor\u001b[39;00m i \u001b[38;5;129;01min\u001b[39;00m arg:   \u001b[38;5;66;03m#[67, 46, 86, 24, 56, 52, 48, 46, 83, 38]  #1234\u001b[39;00m\n\u001b[0;32m      7\u001b[0m     counter\u001b[38;5;241m+\u001b[39m\u001b[38;5;241m=\u001b[39m\u001b[38;5;241m1\u001b[39m\n\u001b[1;32m----> 8\u001b[0m     \u001b[38;5;28;01mif\u001b[39;00m \u001b[43mi\u001b[49m\u001b[38;5;241;43m==\u001b[39;49m\u001b[43md\u001b[49m:     \u001b[38;5;66;03m#i=86 d=86   # i==d  True\u001b[39;00m\n\u001b[0;32m      9\u001b[0m        \u001b[38;5;28;01mbreak\u001b[39;00m\n\u001b[0;32m     10\u001b[0m \u001b[38;5;28;01mreturn\u001b[39;00m counter\n",
      "\u001b[1;31mValueError\u001b[0m: The truth value of an array with more than one element is ambiguous. Use a.any() or a.all()"
     ]
    }
   ],
   "source": [
    "old(e)"
   ]
  },
  {
   "cell_type": "code",
   "execution_count": 237,
   "id": "2d4232b2-b8dc-4ede-9908-39f03d984eb3",
   "metadata": {},
   "outputs": [],
   "source": [
    "def old(arg):  # [67, 46, 86, 24, 56, 52, 48, 46, 83, 38]  #1234\n",
    "    counter=-1\n",
    "    drg=arg.copy()   #[67, 46, 86, 24, 56, 52, 48, 46, 83, 38]  #2345\n",
    "    a=arg.ndim\n",
    "    if a<2:\n",
    "        pass\n",
    "    else:\n",
    "        drg=drg.flatten()\n",
    "        arg=arg.flatten()\n",
    "    drg.sort()      #[24, 38, 46, 46, 48, 52, 56, 67, 83, 86]  # 2345\n",
    "    d=drg[0]   #86\n",
    "    for i in arg:   #[67, 46, 86, 24, 56, 52, 48, 46, 83, 38]  #1234\n",
    "        counter+=1\n",
    "        if i==d:     #i=86 d=86   # i==d  True\n",
    "           break\n",
    "    return counter"
   ]
  },
  {
   "cell_type": "code",
   "execution_count": 231,
   "id": "d6790921-42f0-4f80-9f6b-a35a4e0f9fee",
   "metadata": {},
   "outputs": [],
   "source": [
    "a=np.array([[2,3],[3,5]])"
   ]
  },
  {
   "cell_type": "code",
   "execution_count": 232,
   "id": "e7f2997e-4617-4943-baf2-05ba8b96bfc4",
   "metadata": {},
   "outputs": [],
   "source": [
    "a.sort()"
   ]
  },
  {
   "cell_type": "code",
   "execution_count": 234,
   "id": "937ec557-8a83-46d7-807f-586473797f61",
   "metadata": {},
   "outputs": [
    {
     "data": {
      "text/plain": [
       "array([2, 3, 3, 5])"
      ]
     },
     "execution_count": 234,
     "metadata": {},
     "output_type": "execute_result"
    }
   ],
   "source": [
    "a.flatten()"
   ]
  },
  {
   "cell_type": "code",
   "execution_count": 238,
   "id": "1e6322a2-6560-460a-9df1-923236ce102b",
   "metadata": {},
   "outputs": [
    {
     "data": {
      "text/plain": [
       "0"
      ]
     },
     "execution_count": 238,
     "metadata": {},
     "output_type": "execute_result"
    }
   ],
   "source": [
    "old(a)"
   ]
  },
  {
   "cell_type": "code",
   "execution_count": 243,
   "id": "92ce040c-3a86-412f-9d0c-dcfa9e5e8896",
   "metadata": {},
   "outputs": [
    {
     "data": {
      "text/plain": [
       "array([4, 1, 8, 5, 4, 2, 3, 4])"
      ]
     },
     "execution_count": 243,
     "metadata": {},
     "output_type": "execute_result"
    }
   ],
   "source": [
    "a=np.random.randint(1,10,8)\n",
    "a"
   ]
  },
  {
   "cell_type": "code",
   "execution_count": 248,
   "id": "6da68d7d-8fb0-4a31-aca3-3ae42514353d",
   "metadata": {},
   "outputs": [
    {
     "data": {
      "text/plain": [
       "array([[[4, 1, 8, 5],\n",
       "        [4, 2, 3, 4]]])"
      ]
     },
     "execution_count": 248,
     "metadata": {},
     "output_type": "execute_result"
    }
   ],
   "source": [
    "b=np.reshape(a,(1,2,4))\n",
    "b"
   ]
  },
  {
   "cell_type": "code",
   "execution_count": 249,
   "id": "02cf5515-3e1b-48ef-be99-d0e4691dcd77",
   "metadata": {},
   "outputs": [
    {
     "data": {
      "text/plain": [
       "array([4, 1, 8, 5])"
      ]
     },
     "execution_count": 249,
     "metadata": {},
     "output_type": "execute_result"
    }
   ],
   "source": [
    "b[0][0]"
   ]
  },
  {
   "cell_type": "code",
   "execution_count": 250,
   "id": "28321bef-c649-418a-afcf-f8e694d3b4d0",
   "metadata": {},
   "outputs": [
    {
     "data": {
      "text/plain": [
       "4"
      ]
     },
     "execution_count": 250,
     "metadata": {},
     "output_type": "execute_result"
    }
   ],
   "source": [
    "b[0][0][0]"
   ]
  },
  {
   "cell_type": "code",
   "execution_count": 251,
   "id": "dfd21e92-8c71-4896-9510-f4a92a5faedc",
   "metadata": {},
   "outputs": [
    {
     "data": {
      "text/plain": [
       "1"
      ]
     },
     "execution_count": 251,
     "metadata": {},
     "output_type": "execute_result"
    }
   ],
   "source": [
    "old(b)"
   ]
  },
  {
   "cell_type": "code",
   "execution_count": 255,
   "id": "48ce1591-1ad8-4df1-8fbb-e59d32c1b42b",
   "metadata": {},
   "outputs": [
    {
     "data": {
      "text/plain": [
       "array([[0, 0, 0, 0],\n",
       "       [0, 0, 0, 0]], dtype=int64)"
      ]
     },
     "execution_count": 255,
     "metadata": {},
     "output_type": "execute_result"
    }
   ],
   "source": [
    "np.argmin(b,axis=0)"
   ]
  },
  {
   "cell_type": "code",
   "execution_count": 256,
   "id": "dc590579-100c-401d-a350-224c258d5081",
   "metadata": {},
   "outputs": [
    {
     "data": {
      "text/plain": [
       "array([[4, 1, 8, 5],\n",
       "       [4, 2, 3, 4]])"
      ]
     },
     "execution_count": 256,
     "metadata": {},
     "output_type": "execute_result"
    }
   ],
   "source": [
    "b=np.reshape(a,(2,4))\n",
    "b"
   ]
  },
  {
   "cell_type": "code",
   "execution_count": 257,
   "id": "f240509a-1301-4736-b981-c33a9174a83e",
   "metadata": {},
   "outputs": [
    {
     "data": {
      "text/plain": [
       "array([1, 1], dtype=int64)"
      ]
     },
     "execution_count": 257,
     "metadata": {},
     "output_type": "execute_result"
    }
   ],
   "source": [
    "np.argmin(b,axis=1)"
   ]
  },
  {
   "cell_type": "code",
   "execution_count": 258,
   "id": "f14f83cb-f6b6-4ac2-94fe-d98f512bc9f2",
   "metadata": {},
   "outputs": [
    {
     "data": {
      "text/plain": [
       "array([0, 0, 1, 1], dtype=int64)"
      ]
     },
     "execution_count": 258,
     "metadata": {},
     "output_type": "execute_result"
    }
   ],
   "source": [
    "np.argmin(b,axis=0)"
   ]
  },
  {
   "cell_type": "markdown",
   "id": "1ef63b38-6e39-4625-9df3-c76a83547398",
   "metadata": {},
   "source": [
    "# sorting"
   ]
  },
  {
   "cell_type": "code",
   "execution_count": 267,
   "id": "c30626f4-306b-4ba6-a48e-bf28e4c3d6da",
   "metadata": {},
   "outputs": [
    {
     "data": {
      "text/plain": [
       "array([6, 9, 7, 9, 2, 4, 9, 6, 9, 8])"
      ]
     },
     "execution_count": 267,
     "metadata": {},
     "output_type": "execute_result"
    }
   ],
   "source": [
    "a=np.random.randint(1,10,10)\n",
    "a"
   ]
  },
  {
   "cell_type": "code",
   "execution_count": 261,
   "id": "3e8b388e-ca84-454a-a10d-47c53e4485ed",
   "metadata": {},
   "outputs": [],
   "source": [
    "a.sort()"
   ]
  },
  {
   "cell_type": "code",
   "execution_count": 262,
   "id": "d14f9f24-bd5f-40cd-a39a-c2208cffad8d",
   "metadata": {},
   "outputs": [
    {
     "data": {
      "text/plain": [
       "array([1, 2, 3, 4, 4, 5, 5, 6, 8, 9])"
      ]
     },
     "execution_count": 262,
     "metadata": {},
     "output_type": "execute_result"
    }
   ],
   "source": [
    "a"
   ]
  },
  {
   "cell_type": "code",
   "execution_count": 268,
   "id": "d58dd3d9-3a49-4000-b820-2b357e10f84d",
   "metadata": {},
   "outputs": [
    {
     "data": {
      "text/plain": [
       "array([[6, 9],\n",
       "       [7, 9],\n",
       "       [2, 4],\n",
       "       [9, 6],\n",
       "       [9, 8]])"
      ]
     },
     "execution_count": 268,
     "metadata": {},
     "output_type": "execute_result"
    }
   ],
   "source": [
    "b=np.resize(a,(5,2))\n",
    "b"
   ]
  },
  {
   "cell_type": "code",
   "execution_count": 269,
   "id": "af240ac6-7eb2-45a8-ae77-97010108db07",
   "metadata": {},
   "outputs": [],
   "source": [
    "b.sort()"
   ]
  },
  {
   "cell_type": "code",
   "execution_count": 271,
   "id": "736a00ff-24b7-4929-b01c-abcacab3dc0a",
   "metadata": {},
   "outputs": [],
   "source": [
    "b.sort(axis=0)"
   ]
  },
  {
   "cell_type": "code",
   "execution_count": null,
   "id": "e831ed5e-2288-4aad-beb9-007651c9fc9b",
   "metadata": {},
   "outputs": [],
   "source": []
  },
  {
   "cell_type": "code",
   "execution_count": 272,
   "id": "47ce282d-1723-48dc-8faf-a029f77a2274",
   "metadata": {},
   "outputs": [
    {
     "data": {
      "text/plain": [
       "array([[2, 4],\n",
       "       [6, 9],\n",
       "       [6, 9],\n",
       "       [7, 9],\n",
       "       [8, 9]])"
      ]
     },
     "execution_count": 272,
     "metadata": {},
     "output_type": "execute_result"
    }
   ],
   "source": [
    "b"
   ]
  },
  {
   "cell_type": "code",
   "execution_count": 275,
   "id": "384f215c-c444-483d-a1f6-08ca09345b75",
   "metadata": {},
   "outputs": [
    {
     "data": {
      "text/plain": [
       "array([2, 4, 6, 9, 6, 9, 7, 9, 8, 9])"
      ]
     },
     "execution_count": 275,
     "metadata": {},
     "output_type": "execute_result"
    }
   ],
   "source": [
    "c=b.flatten()\n",
    "c"
   ]
  },
  {
   "cell_type": "code",
   "execution_count": 276,
   "id": "9a5d31eb-80fa-445a-9216-e2f81e82ae87",
   "metadata": {},
   "outputs": [
    {
     "data": {
      "text/plain": [
       "array([ 4, 16, 36, 81, 36, 81, 49, 81, 64, 81], dtype=int32)"
      ]
     },
     "execution_count": 276,
     "metadata": {},
     "output_type": "execute_result"
    }
   ],
   "source": [
    "np.square(c)"
   ]
  },
  {
   "cell_type": "code",
   "execution_count": 279,
   "id": "24725a1d-9151-423b-85bf-fed2369d8b7c",
   "metadata": {},
   "outputs": [
    {
     "data": {
      "text/plain": [
       "array([1.41421356, 2.        , 2.44948974, 3.        , 2.44948974,\n",
       "       3.        , 2.64575131, 3.        , 2.82842712, 3.        ])"
      ]
     },
     "execution_count": 279,
     "metadata": {},
     "output_type": "execute_result"
    }
   ],
   "source": [
    "f=np.sqrt(c)\n",
    "f"
   ]
  },
  {
   "cell_type": "code",
   "execution_count": 281,
   "id": "d6805361-d32a-46bb-96ef-f7738ae7b596",
   "metadata": {},
   "outputs": [
    {
     "data": {
      "text/plain": [
       "array([1.41, 2.  , 2.45, 3.  , 2.45, 3.  , 2.65, 3.  , 2.83, 3.  ])"
      ]
     },
     "execution_count": 281,
     "metadata": {},
     "output_type": "execute_result"
    }
   ],
   "source": [
    "g=np.round(f,decimals=2)\n",
    "g"
   ]
  },
  {
   "cell_type": "code",
   "execution_count": 283,
   "id": "0f4f970e-65bc-4cc5-bfe8-ec6605b1124d",
   "metadata": {},
   "outputs": [
    {
     "data": {
      "text/plain": [
       "array([1, 2, 2, 3, 2, 3, 2, 3, 2, 3], dtype=int16)"
      ]
     },
     "execution_count": 283,
     "metadata": {},
     "output_type": "execute_result"
    }
   ],
   "source": [
    "np.array(g,dtype=np.int16)"
   ]
  },
  {
   "cell_type": "code",
   "execution_count": 1,
   "id": "5eb6a7cf-1b96-4bb6-8dad-a81b54ba40ff",
   "metadata": {},
   "outputs": [],
   "source": [
    "import numpy as np"
   ]
  },
  {
   "cell_type": "code",
   "execution_count": 2,
   "id": "4ccf0cfe-4606-4616-ad81-78a0fef81188",
   "metadata": {},
   "outputs": [
    {
     "data": {
      "text/plain": [
       "-1.995200412208242"
      ]
     },
     "execution_count": 2,
     "metadata": {},
     "output_type": "execute_result"
    }
   ],
   "source": [
    "np.tan(90)"
   ]
  },
  {
   "cell_type": "code",
   "execution_count": 8,
   "id": "a764eda6-4888-4fa4-b965-fd06fc865682",
   "metadata": {},
   "outputs": [
    {
     "name": "stdout",
     "output_type": "stream",
     "text": [
      "[0 1 2 3 4 5 6 7 8 9]\n"
     ]
    },
    {
     "name": "stderr",
     "output_type": "stream",
     "text": [
      "C:\\Users\\Ducat\\AppData\\Local\\Temp\\ipykernel_6712\\1553383633.py:3: RuntimeWarning: divide by zero encountered in log\n",
      "  np.log(a)\n"
     ]
    },
    {
     "data": {
      "text/plain": [
       "array([      -inf, 0.        , 0.69314718, 1.09861229, 1.38629436,\n",
       "       1.60943791, 1.79175947, 1.94591015, 2.07944154, 2.19722458])"
      ]
     },
     "execution_count": 8,
     "metadata": {},
     "output_type": "execute_result"
    }
   ],
   "source": [
    "a=np.array([i for i in range(10)])\n",
    "print(a)\n",
    "np.log(a)"
   ]
  },
  {
   "cell_type": "code",
   "execution_count": 5,
   "id": "f518a3f1-8657-43cb-8ea9-e552819316ca",
   "metadata": {},
   "outputs": [],
   "source": [
    "b=np.array(np.arange(10))"
   ]
  },
  {
   "cell_type": "code",
   "execution_count": 6,
   "id": "c30b9eb0-456a-43a4-8265-866f3e8d06ef",
   "metadata": {},
   "outputs": [
    {
     "data": {
      "text/plain": [
       "array([0, 1, 2, 3, 4, 5, 6, 7, 8, 9])"
      ]
     },
     "execution_count": 6,
     "metadata": {},
     "output_type": "execute_result"
    }
   ],
   "source": [
    "b"
   ]
  },
  {
   "cell_type": "code",
   "execution_count": 7,
   "id": "67ff4d4b-6f44-4349-bd85-8d8c74d9cb68",
   "metadata": {},
   "outputs": [
    {
     "data": {
      "text/plain": [
       "array([0, 1, 2, 3, 4, 5, 6, 7, 8, 9])"
      ]
     },
     "execution_count": 7,
     "metadata": {},
     "output_type": "execute_result"
    }
   ],
   "source": [
    "np.arange(10)"
   ]
  },
  {
   "cell_type": "code",
   "execution_count": 9,
   "id": "e76d4682-d6a4-4d81-9b22-439df3d78ca4",
   "metadata": {},
   "outputs": [
    {
     "data": {
      "text/plain": [
       "array([ 0.        ,  1.55740772, -2.18503986, -0.14254654,  1.15782128,\n",
       "       -3.38051501, -0.29100619,  0.87144798, -6.79971146, -0.45231566])"
      ]
     },
     "execution_count": 9,
     "metadata": {},
     "output_type": "execute_result"
    }
   ],
   "source": [
    "np.tan(b)"
   ]
  },
  {
   "cell_type": "code",
   "execution_count": 10,
   "id": "72df62cf-27d2-4a79-8eaa-a343d3bf827a",
   "metadata": {},
   "outputs": [
    {
     "name": "stderr",
     "output_type": "stream",
     "text": [
      "C:\\Users\\Ducat\\AppData\\Local\\Temp\\ipykernel_6712\\3416214235.py:1: RuntimeWarning: divide by zero encountered in log10\n",
      "  np.log10(b)\n"
     ]
    },
    {
     "data": {
      "text/plain": [
       "array([      -inf, 0.        , 0.30103   , 0.47712125, 0.60205999,\n",
       "       0.69897   , 0.77815125, 0.84509804, 0.90308999, 0.95424251])"
      ]
     },
     "execution_count": 10,
     "metadata": {},
     "output_type": "execute_result"
    }
   ],
   "source": [
    "np.log10(b)"
   ]
  },
  {
   "cell_type": "code",
   "execution_count": 11,
   "id": "ac58c1c9-602f-441e-a13b-14433f416245",
   "metadata": {},
   "outputs": [
    {
     "data": {
      "text/plain": [
       "array([ 1.        ,  0.54030231, -0.41614684, -0.9899925 , -0.65364362,\n",
       "        0.28366219,  0.96017029,  0.75390225, -0.14550003, -0.91113026])"
      ]
     },
     "execution_count": 11,
     "metadata": {},
     "output_type": "execute_result"
    }
   ],
   "source": [
    "np.cos(b)"
   ]
  },
  {
   "cell_type": "code",
   "execution_count": 14,
   "id": "05622bbc-4479-4807-848d-c9d4a67cbb87",
   "metadata": {},
   "outputs": [
    {
     "data": {
      "text/plain": [
       "array([[1, 2, 3],\n",
       "       [4, 5, 6]])"
      ]
     },
     "execution_count": 14,
     "metadata": {},
     "output_type": "execute_result"
    }
   ],
   "source": [
    "np.arange(1,7)\n",
    "np.resize(np.arange(1,7),(2,3))"
   ]
  },
  {
   "cell_type": "code",
   "execution_count": 19,
   "id": "6f366eef-5e72-48b0-a6a4-84baa1c10332",
   "metadata": {},
   "outputs": [
    {
     "data": {
      "text/plain": [
       "array([[1, 2, 3],\n",
       "       [4, 5, 6]])"
      ]
     },
     "execution_count": 19,
     "metadata": {},
     "output_type": "execute_result"
    }
   ],
   "source": [
    "a=np.arange(1,7)\n",
    "b=np.resize(a,(2,3))\n",
    "b"
   ]
  },
  {
   "cell_type": "code",
   "execution_count": 20,
   "id": "10090078-7e88-4b3a-a15a-4edb0b251629",
   "metadata": {},
   "outputs": [
    {
     "data": {
      "text/plain": [
       "array([[1, 4],\n",
       "       [2, 5],\n",
       "       [3, 6]])"
      ]
     },
     "execution_count": 20,
     "metadata": {},
     "output_type": "execute_result"
    }
   ],
   "source": [
    "np.transpose(b)"
   ]
  },
  {
   "cell_type": "code",
   "execution_count": 22,
   "id": "c70460c9-ba85-4cd6-af21-59e20a8beb5a",
   "metadata": {},
   "outputs": [
    {
     "data": {
      "text/plain": [
       "array([[1, 4],\n",
       "       [2, 5],\n",
       "       [3, 6]])"
      ]
     },
     "execution_count": 22,
     "metadata": {},
     "output_type": "execute_result"
    }
   ],
   "source": [
    "b.T"
   ]
  },
  {
   "cell_type": "code",
   "execution_count": 23,
   "id": "eb34586d-effe-4dd1-b71d-158cf3baccb9",
   "metadata": {},
   "outputs": [
    {
     "data": {
      "text/plain": [
       "21"
      ]
     },
     "execution_count": 23,
     "metadata": {},
     "output_type": "execute_result"
    }
   ],
   "source": [
    "b.sum()"
   ]
  },
  {
   "cell_type": "code",
   "execution_count": 24,
   "id": "04a833a5-1004-459e-8d17-c617d2852a98",
   "metadata": {},
   "outputs": [
    {
     "data": {
      "text/plain": [
       "21"
      ]
     },
     "execution_count": 24,
     "metadata": {},
     "output_type": "execute_result"
    }
   ],
   "source": [
    "np.sum(b)"
   ]
  },
  {
   "cell_type": "code",
   "execution_count": 25,
   "id": "0f6e53b2-750a-4e55-8168-c740e193e226",
   "metadata": {},
   "outputs": [
    {
     "data": {
      "text/plain": [
       "1"
      ]
     },
     "execution_count": 25,
     "metadata": {},
     "output_type": "execute_result"
    }
   ],
   "source": [
    "b.min()"
   ]
  },
  {
   "cell_type": "code",
   "execution_count": 26,
   "id": "e3a0dad8-0226-4ff4-b665-929ffad21e4e",
   "metadata": {},
   "outputs": [
    {
     "data": {
      "text/plain": [
       "1"
      ]
     },
     "execution_count": 26,
     "metadata": {},
     "output_type": "execute_result"
    }
   ],
   "source": [
    "np.min(b)"
   ]
  },
  {
   "cell_type": "markdown",
   "id": "9776f5bd-6778-4bae-b198-1699b596f342",
   "metadata": {},
   "source": [
    "in matrix dot product \n",
    "\n",
    "suppose we have two matrix of size (2(r1),2(c1)) and  (2(r2),3(c2))\n",
    "\n",
    "what we check to evalute dot product of two matrix:\n",
    "\n",
    "    rule 1: c1==r2 # multiplication is possible\n",
    "    rule 2: dimension of all the array must be same example if matrix a is 2d then matrix b must be 2d then we apply rule 1\n",
    "\n",
    "    size of matrix after dot product: r1xc2\n",
    "\n"
   ]
  },
  {
   "cell_type": "code",
   "execution_count": 28,
   "id": "dbdfd214-d595-4cfd-86db-1f1997c001ba",
   "metadata": {},
   "outputs": [
    {
     "data": {
      "text/plain": [
       "array([[1, 2],\n",
       "       [3, 4]])"
      ]
     },
     "execution_count": 28,
     "metadata": {},
     "output_type": "execute_result"
    }
   ],
   "source": [
    "a=np.array([[1,2],[3,4]])   # size of array a =(2x2)\n",
    "a"
   ]
  },
  {
   "cell_type": "code",
   "execution_count": 29,
   "id": "f8e84a05-fc3e-4e27-9ab8-046b0d56d07c",
   "metadata": {},
   "outputs": [
    {
     "data": {
      "text/plain": [
       "array([[2, 3, 4],\n",
       "       [1, 2, 3]])"
      ]
     },
     "execution_count": 29,
     "metadata": {},
     "output_type": "execute_result"
    }
   ],
   "source": [
    "b=np.array([[2,3,4],[1,2,3]])\n",
    "b"
   ]
  },
  {
   "cell_type": "code",
   "execution_count": 30,
   "id": "f2a575b8-275d-4e38-b9fa-7c387b1a3523",
   "metadata": {},
   "outputs": [
    {
     "data": {
      "text/plain": [
       "array([[ 4,  7, 10],\n",
       "       [10, 17, 24]])"
      ]
     },
     "execution_count": 30,
     "metadata": {},
     "output_type": "execute_result"
    }
   ],
   "source": [
    "a.dot(b)"
   ]
  },
  {
   "cell_type": "code",
   "execution_count": 31,
   "id": "7d3a447b-8eb8-48b9-bb96-ec67e1ac8a3c",
   "metadata": {},
   "outputs": [
    {
     "ename": "SyntaxError",
     "evalue": "invalid syntax (3782790406.py, line 1)",
     "output_type": "error",
     "traceback": [
      "\u001b[1;36m  Input \u001b[1;32mIn [31]\u001b[1;36m\u001b[0m\n\u001b[1;33m    1a=10\u001b[0m\n\u001b[1;37m     ^\u001b[0m\n\u001b[1;31mSyntaxError\u001b[0m\u001b[1;31m:\u001b[0m invalid syntax\n"
     ]
    }
   ],
   "source": [
    "1a=10"
   ]
  },
  {
   "cell_type": "code",
   "execution_count": 32,
   "id": "52d92011-1b4a-4882-80b2-fe68766c3ade",
   "metadata": {},
   "outputs": [
    {
     "ename": "SyntaxError",
     "evalue": "invalid syntax (1563080312.py, line 1)",
     "output_type": "error",
     "traceback": [
      "\u001b[1;36m  Input \u001b[1;32mIn [32]\u001b[1;36m\u001b[0m\n\u001b[1;33m    @a=10\u001b[0m\n\u001b[1;37m      ^\u001b[0m\n\u001b[1;31mSyntaxError\u001b[0m\u001b[1;31m:\u001b[0m invalid syntax\n"
     ]
    }
   ],
   "source": [
    "@a=10"
   ]
  },
  {
   "cell_type": "code",
   "execution_count": 33,
   "id": "40e6b801-afd3-4d91-ad53-e31b9003fbc4",
   "metadata": {},
   "outputs": [
    {
     "data": {
      "text/plain": [
       "array([[ 4,  7, 10],\n",
       "       [10, 17, 24]])"
      ]
     },
     "execution_count": 33,
     "metadata": {},
     "output_type": "execute_result"
    }
   ],
   "source": [
    "a@b"
   ]
  },
  {
   "cell_type": "code",
   "execution_count": 34,
   "id": "0739533d-82a1-44ae-8fbe-f742963a588d",
   "metadata": {},
   "outputs": [
    {
     "data": {
      "text/plain": [
       "array([[ 4,  7, 10],\n",
       "       [10, 17, 24]])"
      ]
     },
     "execution_count": 34,
     "metadata": {},
     "output_type": "execute_result"
    }
   ],
   "source": [
    "np.dot(a,b)"
   ]
  },
  {
   "cell_type": "code",
   "execution_count": null,
   "id": "6a76a6b2-5af7-4877-818a-0de3ddf96de1",
   "metadata": {},
   "outputs": [],
   "source": []
  }
 ],
 "metadata": {
  "kernelspec": {
   "display_name": "Python 3 (ipykernel)",
   "language": "python",
   "name": "python3"
  },
  "language_info": {
   "codemirror_mode": {
    "name": "ipython",
    "version": 3
   },
   "file_extension": ".py",
   "mimetype": "text/x-python",
   "name": "python",
   "nbconvert_exporter": "python",
   "pygments_lexer": "ipython3",
   "version": "3.9.12"
  }
 },
 "nbformat": 4,
 "nbformat_minor": 5
}
